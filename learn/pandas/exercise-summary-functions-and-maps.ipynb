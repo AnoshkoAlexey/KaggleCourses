{
 "cells": [
  {
   "cell_type": "markdown",
   "id": "32a397aa",
   "metadata": {
    "papermill": {
     "duration": 0.006415,
     "end_time": "2022-12-07T01:48:35.053939",
     "exception": false,
     "start_time": "2022-12-07T01:48:35.047524",
     "status": "completed"
    },
    "tags": []
   },
   "source": [
    "**This notebook is an exercise in the [Pandas](https://www.kaggle.com/learn/pandas) course.  You can reference the tutorial at [this link](https://www.kaggle.com/residentmario/summary-functions-and-maps).**\n",
    "\n",
    "---\n"
   ]
  },
  {
   "cell_type": "markdown",
   "id": "562a9cd3",
   "metadata": {
    "papermill": {
     "duration": 0.004806,
     "end_time": "2022-12-07T01:48:35.064087",
     "exception": false,
     "start_time": "2022-12-07T01:48:35.059281",
     "status": "completed"
    },
    "tags": []
   },
   "source": [
    "# Introduction\n",
    "\n",
    "Now you are ready to get a deeper understanding of your data.\n",
    "\n",
    "Run the following cell to load your data and some utility functions (including code to check your answers)."
   ]
  },
  {
   "cell_type": "code",
   "execution_count": 1,
   "id": "6a3777e3",
   "metadata": {
    "execution": {
     "iopub.execute_input": "2022-12-07T01:48:35.077174Z",
     "iopub.status.busy": "2022-12-07T01:48:35.076381Z",
     "iopub.status.idle": "2022-12-07T01:48:41.951242Z",
     "shell.execute_reply": "2022-12-07T01:48:41.949882Z"
    },
    "papermill": {
     "duration": 6.884655,
     "end_time": "2022-12-07T01:48:41.954293",
     "exception": false,
     "start_time": "2022-12-07T01:48:35.069638",
     "status": "completed"
    },
    "tags": []
   },
   "outputs": [
    {
     "name": "stdout",
     "output_type": "stream",
     "text": [
      "Setup complete.\n"
     ]
    },
    {
     "data": {
      "text/html": [
       "<div>\n",
       "<style scoped>\n",
       "    .dataframe tbody tr th:only-of-type {\n",
       "        vertical-align: middle;\n",
       "    }\n",
       "\n",
       "    .dataframe tbody tr th {\n",
       "        vertical-align: top;\n",
       "    }\n",
       "\n",
       "    .dataframe thead th {\n",
       "        text-align: right;\n",
       "    }\n",
       "</style>\n",
       "<table border=\"1\" class=\"dataframe\">\n",
       "  <thead>\n",
       "    <tr style=\"text-align: right;\">\n",
       "      <th></th>\n",
       "      <th>country</th>\n",
       "      <th>description</th>\n",
       "      <th>designation</th>\n",
       "      <th>points</th>\n",
       "      <th>price</th>\n",
       "      <th>province</th>\n",
       "      <th>region_1</th>\n",
       "      <th>region_2</th>\n",
       "      <th>taster_name</th>\n",
       "      <th>taster_twitter_handle</th>\n",
       "      <th>title</th>\n",
       "      <th>variety</th>\n",
       "      <th>winery</th>\n",
       "    </tr>\n",
       "  </thead>\n",
       "  <tbody>\n",
       "    <tr>\n",
       "      <th>0</th>\n",
       "      <td>Italy</td>\n",
       "      <td>Aromas include tropical fruit, broom, brimston...</td>\n",
       "      <td>Vulkà Bianco</td>\n",
       "      <td>87</td>\n",
       "      <td>NaN</td>\n",
       "      <td>Sicily &amp; Sardinia</td>\n",
       "      <td>Etna</td>\n",
       "      <td>NaN</td>\n",
       "      <td>Kerin O’Keefe</td>\n",
       "      <td>@kerinokeefe</td>\n",
       "      <td>Nicosia 2013 Vulkà Bianco  (Etna)</td>\n",
       "      <td>White Blend</td>\n",
       "      <td>Nicosia</td>\n",
       "    </tr>\n",
       "    <tr>\n",
       "      <th>1</th>\n",
       "      <td>Portugal</td>\n",
       "      <td>This is ripe and fruity, a wine that is smooth...</td>\n",
       "      <td>Avidagos</td>\n",
       "      <td>87</td>\n",
       "      <td>15.0</td>\n",
       "      <td>Douro</td>\n",
       "      <td>NaN</td>\n",
       "      <td>NaN</td>\n",
       "      <td>Roger Voss</td>\n",
       "      <td>@vossroger</td>\n",
       "      <td>Quinta dos Avidagos 2011 Avidagos Red (Douro)</td>\n",
       "      <td>Portuguese Red</td>\n",
       "      <td>Quinta dos Avidagos</td>\n",
       "    </tr>\n",
       "    <tr>\n",
       "      <th>2</th>\n",
       "      <td>US</td>\n",
       "      <td>Tart and snappy, the flavors of lime flesh and...</td>\n",
       "      <td>NaN</td>\n",
       "      <td>87</td>\n",
       "      <td>14.0</td>\n",
       "      <td>Oregon</td>\n",
       "      <td>Willamette Valley</td>\n",
       "      <td>Willamette Valley</td>\n",
       "      <td>Paul Gregutt</td>\n",
       "      <td>@paulgwine</td>\n",
       "      <td>Rainstorm 2013 Pinot Gris (Willamette Valley)</td>\n",
       "      <td>Pinot Gris</td>\n",
       "      <td>Rainstorm</td>\n",
       "    </tr>\n",
       "    <tr>\n",
       "      <th>3</th>\n",
       "      <td>US</td>\n",
       "      <td>Pineapple rind, lemon pith and orange blossom ...</td>\n",
       "      <td>Reserve Late Harvest</td>\n",
       "      <td>87</td>\n",
       "      <td>13.0</td>\n",
       "      <td>Michigan</td>\n",
       "      <td>Lake Michigan Shore</td>\n",
       "      <td>NaN</td>\n",
       "      <td>Alexander Peartree</td>\n",
       "      <td>NaN</td>\n",
       "      <td>St. Julian 2013 Reserve Late Harvest Riesling ...</td>\n",
       "      <td>Riesling</td>\n",
       "      <td>St. Julian</td>\n",
       "    </tr>\n",
       "    <tr>\n",
       "      <th>4</th>\n",
       "      <td>US</td>\n",
       "      <td>Much like the regular bottling from 2012, this...</td>\n",
       "      <td>Vintner's Reserve Wild Child Block</td>\n",
       "      <td>87</td>\n",
       "      <td>65.0</td>\n",
       "      <td>Oregon</td>\n",
       "      <td>Willamette Valley</td>\n",
       "      <td>Willamette Valley</td>\n",
       "      <td>Paul Gregutt</td>\n",
       "      <td>@paulgwine</td>\n",
       "      <td>Sweet Cheeks 2012 Vintner's Reserve Wild Child...</td>\n",
       "      <td>Pinot Noir</td>\n",
       "      <td>Sweet Cheeks</td>\n",
       "    </tr>\n",
       "  </tbody>\n",
       "</table>\n",
       "</div>"
      ],
      "text/plain": [
       "    country                                        description  \\\n",
       "0     Italy  Aromas include tropical fruit, broom, brimston...   \n",
       "1  Portugal  This is ripe and fruity, a wine that is smooth...   \n",
       "2        US  Tart and snappy, the flavors of lime flesh and...   \n",
       "3        US  Pineapple rind, lemon pith and orange blossom ...   \n",
       "4        US  Much like the regular bottling from 2012, this...   \n",
       "\n",
       "                          designation  points  price           province  \\\n",
       "0                        Vulkà Bianco      87    NaN  Sicily & Sardinia   \n",
       "1                            Avidagos      87   15.0              Douro   \n",
       "2                                 NaN      87   14.0             Oregon   \n",
       "3                Reserve Late Harvest      87   13.0           Michigan   \n",
       "4  Vintner's Reserve Wild Child Block      87   65.0             Oregon   \n",
       "\n",
       "              region_1           region_2         taster_name  \\\n",
       "0                 Etna                NaN       Kerin O’Keefe   \n",
       "1                  NaN                NaN          Roger Voss   \n",
       "2    Willamette Valley  Willamette Valley        Paul Gregutt   \n",
       "3  Lake Michigan Shore                NaN  Alexander Peartree   \n",
       "4    Willamette Valley  Willamette Valley        Paul Gregutt   \n",
       "\n",
       "  taster_twitter_handle                                              title  \\\n",
       "0          @kerinokeefe                  Nicosia 2013 Vulkà Bianco  (Etna)   \n",
       "1            @vossroger      Quinta dos Avidagos 2011 Avidagos Red (Douro)   \n",
       "2           @paulgwine       Rainstorm 2013 Pinot Gris (Willamette Valley)   \n",
       "3                   NaN  St. Julian 2013 Reserve Late Harvest Riesling ...   \n",
       "4           @paulgwine   Sweet Cheeks 2012 Vintner's Reserve Wild Child...   \n",
       "\n",
       "          variety               winery  \n",
       "0     White Blend              Nicosia  \n",
       "1  Portuguese Red  Quinta dos Avidagos  \n",
       "2      Pinot Gris            Rainstorm  \n",
       "3        Riesling           St. Julian  \n",
       "4      Pinot Noir         Sweet Cheeks  "
      ]
     },
     "execution_count": 1,
     "metadata": {},
     "output_type": "execute_result"
    }
   ],
   "source": [
    "import pandas as pd\n",
    "pd.set_option(\"display.max_rows\", 5)\n",
    "reviews = pd.read_csv(\"../input/wine-reviews/winemag-data-130k-v2.csv\", index_col=0)\n",
    "\n",
    "from learntools.core import binder; binder.bind(globals())\n",
    "from learntools.pandas.summary_functions_and_maps import *\n",
    "print(\"Setup complete.\")\n",
    "\n",
    "reviews.head()"
   ]
  },
  {
   "cell_type": "markdown",
   "id": "5faeabcf",
   "metadata": {
    "papermill": {
     "duration": 0.005296,
     "end_time": "2022-12-07T01:48:41.965423",
     "exception": false,
     "start_time": "2022-12-07T01:48:41.960127",
     "status": "completed"
    },
    "tags": []
   },
   "source": [
    "# Exercises"
   ]
  },
  {
   "cell_type": "markdown",
   "id": "ab25e581",
   "metadata": {
    "papermill": {
     "duration": 0.005486,
     "end_time": "2022-12-07T01:48:41.976342",
     "exception": false,
     "start_time": "2022-12-07T01:48:41.970856",
     "status": "completed"
    },
    "tags": []
   },
   "source": [
    "## 1.\n",
    "\n",
    "What is the median of the `points` column in the `reviews` DataFrame?"
   ]
  },
  {
   "cell_type": "code",
   "execution_count": 2,
   "id": "066e67ae",
   "metadata": {
    "execution": {
     "iopub.execute_input": "2022-12-07T01:48:41.989223Z",
     "iopub.status.busy": "2022-12-07T01:48:41.988819Z",
     "iopub.status.idle": "2022-12-07T01:48:41.997767Z",
     "shell.execute_reply": "2022-12-07T01:48:41.996780Z"
    },
    "papermill": {
     "duration": 0.017968,
     "end_time": "2022-12-07T01:48:41.999773",
     "exception": false,
     "start_time": "2022-12-07T01:48:41.981805",
     "status": "completed"
    },
    "tags": []
   },
   "outputs": [
    {
     "data": {
      "application/javascript": [
       "parent.postMessage({\"jupyterEvent\": \"custom.exercise_interaction\", \"data\": {\"outcomeType\": 4, \"interactionType\": 1, \"questionType\": 1, \"questionId\": \"1_MedianPoints\", \"learnToolsVersion\": \"0.3.4\", \"valueTowardsCompletion\": 0.0, \"failureMessage\": \"\", \"exceptionClass\": \"\", \"trace\": \"\"}}, \"*\")"
      ],
      "text/plain": [
       "<IPython.core.display.Javascript object>"
      ]
     },
     "metadata": {},
     "output_type": "display_data"
    },
    {
     "data": {
      "text/markdown": [
       "<span style=\"color:#ccaa33\">Check:</span> When you've updated the starter code, `check()` will tell you whether your code is correct. You need to update the code that creates variable `median_points`"
      ],
      "text/plain": [
       "Check: When you've updated the starter code, `check()` will tell you whether your code is correct. You need to update the code that creates variable `median_points`"
      ]
     },
     "metadata": {},
     "output_type": "display_data"
    }
   ],
   "source": [
    "median_points = ____\n",
    "\n",
    "# Check your answer\n",
    "q1.check()"
   ]
  },
  {
   "cell_type": "code",
   "execution_count": 3,
   "id": "aa191c91",
   "metadata": {
    "execution": {
     "iopub.execute_input": "2022-12-07T01:48:42.013253Z",
     "iopub.status.busy": "2022-12-07T01:48:42.012851Z",
     "iopub.status.idle": "2022-12-07T01:48:42.017403Z",
     "shell.execute_reply": "2022-12-07T01:48:42.016186Z"
    },
    "papermill": {
     "duration": 0.013829,
     "end_time": "2022-12-07T01:48:42.019562",
     "exception": false,
     "start_time": "2022-12-07T01:48:42.005733",
     "status": "completed"
    },
    "tags": []
   },
   "outputs": [],
   "source": [
    "#q1.hint()\n",
    "#q1.solution()"
   ]
  },
  {
   "cell_type": "markdown",
   "id": "8f2db910",
   "metadata": {
    "papermill": {
     "duration": 0.007131,
     "end_time": "2022-12-07T01:48:42.032634",
     "exception": false,
     "start_time": "2022-12-07T01:48:42.025503",
     "status": "completed"
    },
    "tags": []
   },
   "source": [
    "## 2. \n",
    "What countries are represented in the dataset? (Your answer should not include any duplicates.)"
   ]
  },
  {
   "cell_type": "code",
   "execution_count": 4,
   "id": "ff54c832",
   "metadata": {
    "execution": {
     "iopub.execute_input": "2022-12-07T01:48:42.046301Z",
     "iopub.status.busy": "2022-12-07T01:48:42.045451Z",
     "iopub.status.idle": "2022-12-07T01:48:42.054341Z",
     "shell.execute_reply": "2022-12-07T01:48:42.053311Z"
    },
    "papermill": {
     "duration": 0.018485,
     "end_time": "2022-12-07T01:48:42.056867",
     "exception": false,
     "start_time": "2022-12-07T01:48:42.038382",
     "status": "completed"
    },
    "tags": []
   },
   "outputs": [
    {
     "data": {
      "application/javascript": [
       "parent.postMessage({\"jupyterEvent\": \"custom.exercise_interaction\", \"data\": {\"outcomeType\": 4, \"interactionType\": 1, \"questionType\": 2, \"questionId\": \"2_UniqueCountries\", \"learnToolsVersion\": \"0.3.4\", \"valueTowardsCompletion\": 0.0, \"failureMessage\": \"\", \"exceptionClass\": \"\", \"trace\": \"\"}}, \"*\")"
      ],
      "text/plain": [
       "<IPython.core.display.Javascript object>"
      ]
     },
     "metadata": {},
     "output_type": "display_data"
    },
    {
     "data": {
      "text/markdown": [
       "<span style=\"color:#ccaa33\">Check:</span> When you've updated the starter code, `check()` will tell you whether your code is correct. You need to update the code that creates variable `countries`"
      ],
      "text/plain": [
       "Check: When you've updated the starter code, `check()` will tell you whether your code is correct. You need to update the code that creates variable `countries`"
      ]
     },
     "metadata": {},
     "output_type": "display_data"
    }
   ],
   "source": [
    "countries = ____\n",
    "\n",
    "# Check your answer\n",
    "q2.check()"
   ]
  },
  {
   "cell_type": "code",
   "execution_count": 5,
   "id": "806475e4",
   "metadata": {
    "execution": {
     "iopub.execute_input": "2022-12-07T01:48:42.071714Z",
     "iopub.status.busy": "2022-12-07T01:48:42.070713Z",
     "iopub.status.idle": "2022-12-07T01:48:42.075575Z",
     "shell.execute_reply": "2022-12-07T01:48:42.074523Z"
    },
    "papermill": {
     "duration": 0.014444,
     "end_time": "2022-12-07T01:48:42.077767",
     "exception": false,
     "start_time": "2022-12-07T01:48:42.063323",
     "status": "completed"
    },
    "tags": []
   },
   "outputs": [],
   "source": [
    "#q2.hint()\n",
    "#q2.solution()"
   ]
  },
  {
   "cell_type": "markdown",
   "id": "b61d5f11",
   "metadata": {
    "papermill": {
     "duration": 0.005989,
     "end_time": "2022-12-07T01:48:42.089930",
     "exception": false,
     "start_time": "2022-12-07T01:48:42.083941",
     "status": "completed"
    },
    "tags": []
   },
   "source": [
    "## 3.\n",
    "How often does each country appear in the dataset? Create a Series `reviews_per_country` mapping countries to the count of reviews of wines from that country."
   ]
  },
  {
   "cell_type": "code",
   "execution_count": 6,
   "id": "f9c4a936",
   "metadata": {
    "execution": {
     "iopub.execute_input": "2022-12-07T01:48:42.104329Z",
     "iopub.status.busy": "2022-12-07T01:48:42.103894Z",
     "iopub.status.idle": "2022-12-07T01:48:42.111773Z",
     "shell.execute_reply": "2022-12-07T01:48:42.111024Z"
    },
    "papermill": {
     "duration": 0.01754,
     "end_time": "2022-12-07T01:48:42.113792",
     "exception": false,
     "start_time": "2022-12-07T01:48:42.096252",
     "status": "completed"
    },
    "tags": []
   },
   "outputs": [
    {
     "data": {
      "application/javascript": [
       "parent.postMessage({\"jupyterEvent\": \"custom.exercise_interaction\", \"data\": {\"outcomeType\": 4, \"interactionType\": 1, \"questionType\": 1, \"questionId\": \"3_ReviewsPerCountry\", \"learnToolsVersion\": \"0.3.4\", \"valueTowardsCompletion\": 0.0, \"failureMessage\": \"\", \"exceptionClass\": \"\", \"trace\": \"\"}}, \"*\")"
      ],
      "text/plain": [
       "<IPython.core.display.Javascript object>"
      ]
     },
     "metadata": {},
     "output_type": "display_data"
    },
    {
     "data": {
      "text/markdown": [
       "<span style=\"color:#ccaa33\">Check:</span> When you've updated the starter code, `check()` will tell you whether your code is correct. You need to update the code that creates variable `reviews_per_country`"
      ],
      "text/plain": [
       "Check: When you've updated the starter code, `check()` will tell you whether your code is correct. You need to update the code that creates variable `reviews_per_country`"
      ]
     },
     "metadata": {},
     "output_type": "display_data"
    }
   ],
   "source": [
    "reviews_per_country = ____\n",
    "\n",
    "# Check your answer\n",
    "q3.check()"
   ]
  },
  {
   "cell_type": "code",
   "execution_count": 7,
   "id": "dbdb1831",
   "metadata": {
    "execution": {
     "iopub.execute_input": "2022-12-07T01:48:42.128850Z",
     "iopub.status.busy": "2022-12-07T01:48:42.127877Z",
     "iopub.status.idle": "2022-12-07T01:48:42.132387Z",
     "shell.execute_reply": "2022-12-07T01:48:42.131324Z"
    },
    "papermill": {
     "duration": 0.014013,
     "end_time": "2022-12-07T01:48:42.134360",
     "exception": false,
     "start_time": "2022-12-07T01:48:42.120347",
     "status": "completed"
    },
    "tags": []
   },
   "outputs": [],
   "source": [
    "#q3.hint()\n",
    "#q3.solution()"
   ]
  },
  {
   "cell_type": "markdown",
   "id": "514c11ed",
   "metadata": {
    "papermill": {
     "duration": 0.006318,
     "end_time": "2022-12-07T01:48:42.147186",
     "exception": false,
     "start_time": "2022-12-07T01:48:42.140868",
     "status": "completed"
    },
    "tags": []
   },
   "source": [
    "## 4.\n",
    "Create variable `centered_price` containing a version of the `price` column with the mean price subtracted.\n",
    "\n",
    "(Note: this 'centering' transformation is a common preprocessing step before applying various machine learning algorithms.) "
   ]
  },
  {
   "cell_type": "code",
   "execution_count": 8,
   "id": "a4627dea",
   "metadata": {
    "execution": {
     "iopub.execute_input": "2022-12-07T01:48:42.162130Z",
     "iopub.status.busy": "2022-12-07T01:48:42.161450Z",
     "iopub.status.idle": "2022-12-07T01:48:42.169827Z",
     "shell.execute_reply": "2022-12-07T01:48:42.168731Z"
    },
    "papermill": {
     "duration": 0.01823,
     "end_time": "2022-12-07T01:48:42.171926",
     "exception": false,
     "start_time": "2022-12-07T01:48:42.153696",
     "status": "completed"
    },
    "tags": []
   },
   "outputs": [
    {
     "data": {
      "application/javascript": [
       "parent.postMessage({\"jupyterEvent\": \"custom.exercise_interaction\", \"data\": {\"outcomeType\": 4, \"interactionType\": 1, \"questionType\": 1, \"questionId\": \"4_CenteredPrice\", \"learnToolsVersion\": \"0.3.4\", \"valueTowardsCompletion\": 0.0, \"failureMessage\": \"\", \"exceptionClass\": \"\", \"trace\": \"\"}}, \"*\")"
      ],
      "text/plain": [
       "<IPython.core.display.Javascript object>"
      ]
     },
     "metadata": {},
     "output_type": "display_data"
    },
    {
     "data": {
      "text/markdown": [
       "<span style=\"color:#ccaa33\">Check:</span> When you've updated the starter code, `check()` will tell you whether your code is correct. You need to update the code that creates variable `centered_price`"
      ],
      "text/plain": [
       "Check: When you've updated the starter code, `check()` will tell you whether your code is correct. You need to update the code that creates variable `centered_price`"
      ]
     },
     "metadata": {},
     "output_type": "display_data"
    }
   ],
   "source": [
    "centered_price = ____\n",
    "\n",
    "# Check your answer\n",
    "q4.check()"
   ]
  },
  {
   "cell_type": "code",
   "execution_count": 9,
   "id": "e29f44d5",
   "metadata": {
    "execution": {
     "iopub.execute_input": "2022-12-07T01:48:42.186755Z",
     "iopub.status.busy": "2022-12-07T01:48:42.186398Z",
     "iopub.status.idle": "2022-12-07T01:48:42.191116Z",
     "shell.execute_reply": "2022-12-07T01:48:42.189839Z"
    },
    "papermill": {
     "duration": 0.014676,
     "end_time": "2022-12-07T01:48:42.193297",
     "exception": false,
     "start_time": "2022-12-07T01:48:42.178621",
     "status": "completed"
    },
    "tags": []
   },
   "outputs": [],
   "source": [
    "#q4.hint()\n",
    "#q4.solution()"
   ]
  },
  {
   "cell_type": "markdown",
   "id": "65cc51f6",
   "metadata": {
    "papermill": {
     "duration": 0.006693,
     "end_time": "2022-12-07T01:48:42.207015",
     "exception": false,
     "start_time": "2022-12-07T01:48:42.200322",
     "status": "completed"
    },
    "tags": []
   },
   "source": [
    "## 5.\n",
    "I'm an economical wine buyer. Which wine is the \"best bargain\"? Create a variable `bargain_wine` with the title of the wine with the highest points-to-price ratio in the dataset."
   ]
  },
  {
   "cell_type": "code",
   "execution_count": 10,
   "id": "54ae4b9c",
   "metadata": {
    "execution": {
     "iopub.execute_input": "2022-12-07T01:48:42.222618Z",
     "iopub.status.busy": "2022-12-07T01:48:42.222209Z",
     "iopub.status.idle": "2022-12-07T01:48:42.229904Z",
     "shell.execute_reply": "2022-12-07T01:48:42.229167Z"
    },
    "papermill": {
     "duration": 0.017847,
     "end_time": "2022-12-07T01:48:42.231960",
     "exception": false,
     "start_time": "2022-12-07T01:48:42.214113",
     "status": "completed"
    },
    "tags": []
   },
   "outputs": [
    {
     "data": {
      "application/javascript": [
       "parent.postMessage({\"jupyterEvent\": \"custom.exercise_interaction\", \"data\": {\"outcomeType\": 4, \"interactionType\": 1, \"questionType\": 2, \"questionId\": \"5_BargainWine\", \"learnToolsVersion\": \"0.3.4\", \"valueTowardsCompletion\": 0.0, \"failureMessage\": \"\", \"exceptionClass\": \"\", \"trace\": \"\"}}, \"*\")"
      ],
      "text/plain": [
       "<IPython.core.display.Javascript object>"
      ]
     },
     "metadata": {},
     "output_type": "display_data"
    },
    {
     "data": {
      "text/markdown": [
       "<span style=\"color:#ccaa33\">Check:</span> When you've updated the starter code, `check()` will tell you whether your code is correct. You need to update the code that creates variable `bargain_wine`"
      ],
      "text/plain": [
       "Check: When you've updated the starter code, `check()` will tell you whether your code is correct. You need to update the code that creates variable `bargain_wine`"
      ]
     },
     "metadata": {},
     "output_type": "display_data"
    }
   ],
   "source": [
    "bargain_wine = ____\n",
    "\n",
    "# Check your answer\n",
    "q5.check()"
   ]
  },
  {
   "cell_type": "code",
   "execution_count": 11,
   "id": "2d990b5c",
   "metadata": {
    "execution": {
     "iopub.execute_input": "2022-12-07T01:48:42.248018Z",
     "iopub.status.busy": "2022-12-07T01:48:42.247588Z",
     "iopub.status.idle": "2022-12-07T01:48:42.251765Z",
     "shell.execute_reply": "2022-12-07T01:48:42.250963Z"
    },
    "papermill": {
     "duration": 0.014626,
     "end_time": "2022-12-07T01:48:42.253794",
     "exception": false,
     "start_time": "2022-12-07T01:48:42.239168",
     "status": "completed"
    },
    "tags": []
   },
   "outputs": [],
   "source": [
    "#q5.hint()\n",
    "#q5.solution()"
   ]
  },
  {
   "cell_type": "markdown",
   "id": "7789e3b5",
   "metadata": {
    "papermill": {
     "duration": 0.007044,
     "end_time": "2022-12-07T01:48:42.268220",
     "exception": false,
     "start_time": "2022-12-07T01:48:42.261176",
     "status": "completed"
    },
    "tags": []
   },
   "source": [
    "## 6.\n",
    "There are only so many words you can use when describing a bottle of wine. Is a wine more likely to be \"tropical\" or \"fruity\"? Create a Series `descriptor_counts` counting how many times each of these two words appears in the `description` column in the dataset. (For simplicity, let's ignore the capitalized versions of these words.)"
   ]
  },
  {
   "cell_type": "code",
   "execution_count": 12,
   "id": "3c63ed15",
   "metadata": {
    "execution": {
     "iopub.execute_input": "2022-12-07T01:48:42.284700Z",
     "iopub.status.busy": "2022-12-07T01:48:42.284260Z",
     "iopub.status.idle": "2022-12-07T01:48:42.292284Z",
     "shell.execute_reply": "2022-12-07T01:48:42.291359Z"
    },
    "papermill": {
     "duration": 0.018797,
     "end_time": "2022-12-07T01:48:42.294328",
     "exception": false,
     "start_time": "2022-12-07T01:48:42.275531",
     "status": "completed"
    },
    "tags": []
   },
   "outputs": [
    {
     "data": {
      "application/javascript": [
       "parent.postMessage({\"jupyterEvent\": \"custom.exercise_interaction\", \"data\": {\"outcomeType\": 4, \"interactionType\": 1, \"questionType\": 1, \"questionId\": \"6_DescriptorCounts\", \"learnToolsVersion\": \"0.3.4\", \"valueTowardsCompletion\": 0.0, \"failureMessage\": \"\", \"exceptionClass\": \"\", \"trace\": \"\"}}, \"*\")"
      ],
      "text/plain": [
       "<IPython.core.display.Javascript object>"
      ]
     },
     "metadata": {},
     "output_type": "display_data"
    },
    {
     "data": {
      "text/markdown": [
       "<span style=\"color:#ccaa33\">Check:</span> When you've updated the starter code, `check()` will tell you whether your code is correct. You need to update the code that creates variable `descriptor_counts`"
      ],
      "text/plain": [
       "Check: When you've updated the starter code, `check()` will tell you whether your code is correct. You need to update the code that creates variable `descriptor_counts`"
      ]
     },
     "metadata": {},
     "output_type": "display_data"
    }
   ],
   "source": [
    "descriptor_counts = ____\n",
    "\n",
    "# Check your answer\n",
    "q6.check()"
   ]
  },
  {
   "cell_type": "code",
   "execution_count": 13,
   "id": "62b8fa0d",
   "metadata": {
    "execution": {
     "iopub.execute_input": "2022-12-07T01:48:42.310997Z",
     "iopub.status.busy": "2022-12-07T01:48:42.310590Z",
     "iopub.status.idle": "2022-12-07T01:48:42.315057Z",
     "shell.execute_reply": "2022-12-07T01:48:42.313890Z"
    },
    "papermill": {
     "duration": 0.015415,
     "end_time": "2022-12-07T01:48:42.317194",
     "exception": false,
     "start_time": "2022-12-07T01:48:42.301779",
     "status": "completed"
    },
    "tags": []
   },
   "outputs": [],
   "source": [
    "#q6.hint()\n",
    "#q6.solution()"
   ]
  },
  {
   "cell_type": "markdown",
   "id": "575d335e",
   "metadata": {
    "papermill": {
     "duration": 0.007292,
     "end_time": "2022-12-07T01:48:42.332396",
     "exception": false,
     "start_time": "2022-12-07T01:48:42.325104",
     "status": "completed"
    },
    "tags": []
   },
   "source": [
    "## 7.\n",
    "We'd like to host these wine reviews on our website, but a rating system ranging from 80 to 100 points is too hard to understand - we'd like to translate them into simple star ratings. A score of 95 or higher counts as 3 stars, a score of at least 85 but less than 95 is 2 stars. Any other score is 1 star.\n",
    "\n",
    "Also, the Canadian Vintners Association bought a lot of ads on the site, so any wines from Canada should automatically get 3 stars, regardless of points.\n",
    "\n",
    "Create a series `star_ratings` with the number of stars corresponding to each review in the dataset."
   ]
  },
  {
   "cell_type": "code",
   "execution_count": 14,
   "id": "0b3a72d2",
   "metadata": {
    "execution": {
     "iopub.execute_input": "2022-12-07T01:48:42.349675Z",
     "iopub.status.busy": "2022-12-07T01:48:42.349309Z",
     "iopub.status.idle": "2022-12-07T01:48:42.357831Z",
     "shell.execute_reply": "2022-12-07T01:48:42.356683Z"
    },
    "papermill": {
     "duration": 0.019693,
     "end_time": "2022-12-07T01:48:42.359941",
     "exception": false,
     "start_time": "2022-12-07T01:48:42.340248",
     "status": "completed"
    },
    "tags": []
   },
   "outputs": [
    {
     "data": {
      "application/javascript": [
       "parent.postMessage({\"jupyterEvent\": \"custom.exercise_interaction\", \"data\": {\"outcomeType\": 4, \"interactionType\": 1, \"questionType\": 1, \"questionId\": \"7_StarRatings\", \"learnToolsVersion\": \"0.3.4\", \"valueTowardsCompletion\": 0.0, \"failureMessage\": \"\", \"exceptionClass\": \"\", \"trace\": \"\"}}, \"*\")"
      ],
      "text/plain": [
       "<IPython.core.display.Javascript object>"
      ]
     },
     "metadata": {},
     "output_type": "display_data"
    },
    {
     "data": {
      "text/markdown": [
       "<span style=\"color:#ccaa33\">Check:</span> When you've updated the starter code, `check()` will tell you whether your code is correct. You need to update the code that creates variable `star_ratings`"
      ],
      "text/plain": [
       "Check: When you've updated the starter code, `check()` will tell you whether your code is correct. You need to update the code that creates variable `star_ratings`"
      ]
     },
     "metadata": {},
     "output_type": "display_data"
    }
   ],
   "source": [
    "star_ratings = ____\n",
    "\n",
    "# Check your answer\n",
    "q7.check()"
   ]
  },
  {
   "cell_type": "code",
   "execution_count": 15,
   "id": "21a6f67e",
   "metadata": {
    "execution": {
     "iopub.execute_input": "2022-12-07T01:48:42.377699Z",
     "iopub.status.busy": "2022-12-07T01:48:42.377326Z",
     "iopub.status.idle": "2022-12-07T01:48:42.381382Z",
     "shell.execute_reply": "2022-12-07T01:48:42.380324Z"
    },
    "papermill": {
     "duration": 0.015565,
     "end_time": "2022-12-07T01:48:42.383562",
     "exception": false,
     "start_time": "2022-12-07T01:48:42.367997",
     "status": "completed"
    },
    "tags": []
   },
   "outputs": [],
   "source": [
    "#q7.hint()\n",
    "#q7.solution()"
   ]
  },
  {
   "cell_type": "markdown",
   "id": "029dd306",
   "metadata": {
    "papermill": {
     "duration": 0.008155,
     "end_time": "2022-12-07T01:48:42.399891",
     "exception": false,
     "start_time": "2022-12-07T01:48:42.391736",
     "status": "completed"
    },
    "tags": []
   },
   "source": [
    "# Keep going\n",
    "Continue to **[grouping and sorting](https://www.kaggle.com/residentmario/grouping-and-sorting)**."
   ]
  },
  {
   "cell_type": "markdown",
   "id": "59a2eb53",
   "metadata": {
    "papermill": {
     "duration": 0.007894,
     "end_time": "2022-12-07T01:48:42.416152",
     "exception": false,
     "start_time": "2022-12-07T01:48:42.408258",
     "status": "completed"
    },
    "tags": []
   },
   "source": [
    "---\n",
    "\n",
    "\n",
    "\n",
    "\n",
    "*Have questions or comments? Visit the [course discussion forum](https://www.kaggle.com/learn/pandas/discussion) to chat with other learners.*"
   ]
  }
 ],
 "metadata": {
  "kernelspec": {
   "display_name": "Python 3",
   "language": "python",
   "name": "python3"
  },
  "language_info": {
   "codemirror_mode": {
    "name": "ipython",
    "version": 3
   },
   "file_extension": ".py",
   "mimetype": "text/x-python",
   "name": "python",
   "nbconvert_exporter": "python",
   "pygments_lexer": "ipython3",
   "version": "3.7.12"
  },
  "papermill": {
   "default_parameters": {},
   "duration": 20.061227,
   "end_time": "2022-12-07T01:48:45.326631",
   "environment_variables": {},
   "exception": null,
   "input_path": "__notebook__.ipynb",
   "output_path": "__notebook__.ipynb",
   "parameters": {},
   "start_time": "2022-12-07T01:48:25.265404",
   "version": "2.3.4"
  }
 },
 "nbformat": 4,
 "nbformat_minor": 5
}
