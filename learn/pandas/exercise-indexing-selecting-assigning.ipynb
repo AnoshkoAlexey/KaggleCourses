{
 "cells": [
  {
   "cell_type": "markdown",
   "id": "efa24ab2",
   "metadata": {
    "papermill": {
     "duration": 0.008109,
     "end_time": "2022-12-07T00:33:44.917312",
     "exception": false,
     "start_time": "2022-12-07T00:33:44.909203",
     "status": "completed"
    },
    "tags": []
   },
   "source": [
    "**This notebook is an exercise in the [Pandas](https://www.kaggle.com/learn/pandas) course.  You can reference the tutorial at [this link](https://www.kaggle.com/residentmario/indexing-selecting-assigning).**\n",
    "\n",
    "---\n"
   ]
  },
  {
   "cell_type": "markdown",
   "id": "c154016b",
   "metadata": {
    "papermill": {
     "duration": 0.006585,
     "end_time": "2022-12-07T00:33:44.930988",
     "exception": false,
     "start_time": "2022-12-07T00:33:44.924403",
     "status": "completed"
    },
    "tags": []
   },
   "source": [
    "# Introduction\n",
    "\n",
    "In this set of exercises we will work with the [Wine Reviews dataset](https://www.kaggle.com/zynicide/wine-reviews). "
   ]
  },
  {
   "cell_type": "markdown",
   "id": "2372b09a",
   "metadata": {
    "papermill": {
     "duration": 0.006519,
     "end_time": "2022-12-07T00:33:44.944292",
     "exception": false,
     "start_time": "2022-12-07T00:33:44.937773",
     "status": "completed"
    },
    "tags": []
   },
   "source": [
    "Run the following cell to load your data and some utility functions (including code to check your answers)."
   ]
  },
  {
   "cell_type": "code",
   "execution_count": 1,
   "id": "8792b92e",
   "metadata": {
    "execution": {
     "iopub.execute_input": "2022-12-07T00:33:44.960847Z",
     "iopub.status.busy": "2022-12-07T00:33:44.959373Z",
     "iopub.status.idle": "2022-12-07T00:33:47.942338Z",
     "shell.execute_reply": "2022-12-07T00:33:47.941113Z"
    },
    "papermill": {
     "duration": 2.994144,
     "end_time": "2022-12-07T00:33:47.945145",
     "exception": false,
     "start_time": "2022-12-07T00:33:44.951001",
     "status": "completed"
    },
    "tags": []
   },
   "outputs": [
    {
     "name": "stdout",
     "output_type": "stream",
     "text": [
      "Setup complete.\n"
     ]
    }
   ],
   "source": [
    "import pandas as pd\n",
    "\n",
    "reviews = pd.read_csv(\"../input/wine-reviews/winemag-data-130k-v2.csv\", index_col=0)\n",
    "pd.set_option(\"display.max_rows\", 5)\n",
    "\n",
    "from learntools.core import binder; binder.bind(globals())\n",
    "from learntools.pandas.indexing_selecting_and_assigning import *\n",
    "print(\"Setup complete.\")"
   ]
  },
  {
   "cell_type": "markdown",
   "id": "0a45f0a0",
   "metadata": {
    "papermill": {
     "duration": 0.00661,
     "end_time": "2022-12-07T00:33:47.958954",
     "exception": false,
     "start_time": "2022-12-07T00:33:47.952344",
     "status": "completed"
    },
    "tags": []
   },
   "source": [
    "Look at an overview of your data by running the following line."
   ]
  },
  {
   "cell_type": "code",
   "execution_count": 2,
   "id": "90685e80",
   "metadata": {
    "execution": {
     "iopub.execute_input": "2022-12-07T00:33:47.976577Z",
     "iopub.status.busy": "2022-12-07T00:33:47.976160Z",
     "iopub.status.idle": "2022-12-07T00:33:48.003391Z",
     "shell.execute_reply": "2022-12-07T00:33:48.001941Z"
    },
    "papermill": {
     "duration": 0.040556,
     "end_time": "2022-12-07T00:33:48.006331",
     "exception": false,
     "start_time": "2022-12-07T00:33:47.965775",
     "status": "completed"
    },
    "tags": []
   },
   "outputs": [
    {
     "data": {
      "text/html": [
       "<div>\n",
       "<style scoped>\n",
       "    .dataframe tbody tr th:only-of-type {\n",
       "        vertical-align: middle;\n",
       "    }\n",
       "\n",
       "    .dataframe tbody tr th {\n",
       "        vertical-align: top;\n",
       "    }\n",
       "\n",
       "    .dataframe thead th {\n",
       "        text-align: right;\n",
       "    }\n",
       "</style>\n",
       "<table border=\"1\" class=\"dataframe\">\n",
       "  <thead>\n",
       "    <tr style=\"text-align: right;\">\n",
       "      <th></th>\n",
       "      <th>country</th>\n",
       "      <th>description</th>\n",
       "      <th>designation</th>\n",
       "      <th>points</th>\n",
       "      <th>price</th>\n",
       "      <th>province</th>\n",
       "      <th>region_1</th>\n",
       "      <th>region_2</th>\n",
       "      <th>taster_name</th>\n",
       "      <th>taster_twitter_handle</th>\n",
       "      <th>title</th>\n",
       "      <th>variety</th>\n",
       "      <th>winery</th>\n",
       "    </tr>\n",
       "  </thead>\n",
       "  <tbody>\n",
       "    <tr>\n",
       "      <th>0</th>\n",
       "      <td>Italy</td>\n",
       "      <td>Aromas include tropical fruit, broom, brimston...</td>\n",
       "      <td>Vulkà Bianco</td>\n",
       "      <td>87</td>\n",
       "      <td>NaN</td>\n",
       "      <td>Sicily &amp; Sardinia</td>\n",
       "      <td>Etna</td>\n",
       "      <td>NaN</td>\n",
       "      <td>Kerin O’Keefe</td>\n",
       "      <td>@kerinokeefe</td>\n",
       "      <td>Nicosia 2013 Vulkà Bianco  (Etna)</td>\n",
       "      <td>White Blend</td>\n",
       "      <td>Nicosia</td>\n",
       "    </tr>\n",
       "    <tr>\n",
       "      <th>1</th>\n",
       "      <td>Portugal</td>\n",
       "      <td>This is ripe and fruity, a wine that is smooth...</td>\n",
       "      <td>Avidagos</td>\n",
       "      <td>87</td>\n",
       "      <td>15.0</td>\n",
       "      <td>Douro</td>\n",
       "      <td>NaN</td>\n",
       "      <td>NaN</td>\n",
       "      <td>Roger Voss</td>\n",
       "      <td>@vossroger</td>\n",
       "      <td>Quinta dos Avidagos 2011 Avidagos Red (Douro)</td>\n",
       "      <td>Portuguese Red</td>\n",
       "      <td>Quinta dos Avidagos</td>\n",
       "    </tr>\n",
       "    <tr>\n",
       "      <th>2</th>\n",
       "      <td>US</td>\n",
       "      <td>Tart and snappy, the flavors of lime flesh and...</td>\n",
       "      <td>NaN</td>\n",
       "      <td>87</td>\n",
       "      <td>14.0</td>\n",
       "      <td>Oregon</td>\n",
       "      <td>Willamette Valley</td>\n",
       "      <td>Willamette Valley</td>\n",
       "      <td>Paul Gregutt</td>\n",
       "      <td>@paulgwine</td>\n",
       "      <td>Rainstorm 2013 Pinot Gris (Willamette Valley)</td>\n",
       "      <td>Pinot Gris</td>\n",
       "      <td>Rainstorm</td>\n",
       "    </tr>\n",
       "    <tr>\n",
       "      <th>3</th>\n",
       "      <td>US</td>\n",
       "      <td>Pineapple rind, lemon pith and orange blossom ...</td>\n",
       "      <td>Reserve Late Harvest</td>\n",
       "      <td>87</td>\n",
       "      <td>13.0</td>\n",
       "      <td>Michigan</td>\n",
       "      <td>Lake Michigan Shore</td>\n",
       "      <td>NaN</td>\n",
       "      <td>Alexander Peartree</td>\n",
       "      <td>NaN</td>\n",
       "      <td>St. Julian 2013 Reserve Late Harvest Riesling ...</td>\n",
       "      <td>Riesling</td>\n",
       "      <td>St. Julian</td>\n",
       "    </tr>\n",
       "    <tr>\n",
       "      <th>4</th>\n",
       "      <td>US</td>\n",
       "      <td>Much like the regular bottling from 2012, this...</td>\n",
       "      <td>Vintner's Reserve Wild Child Block</td>\n",
       "      <td>87</td>\n",
       "      <td>65.0</td>\n",
       "      <td>Oregon</td>\n",
       "      <td>Willamette Valley</td>\n",
       "      <td>Willamette Valley</td>\n",
       "      <td>Paul Gregutt</td>\n",
       "      <td>@paulgwine</td>\n",
       "      <td>Sweet Cheeks 2012 Vintner's Reserve Wild Child...</td>\n",
       "      <td>Pinot Noir</td>\n",
       "      <td>Sweet Cheeks</td>\n",
       "    </tr>\n",
       "  </tbody>\n",
       "</table>\n",
       "</div>"
      ],
      "text/plain": [
       "    country                                        description  \\\n",
       "0     Italy  Aromas include tropical fruit, broom, brimston...   \n",
       "1  Portugal  This is ripe and fruity, a wine that is smooth...   \n",
       "2        US  Tart and snappy, the flavors of lime flesh and...   \n",
       "3        US  Pineapple rind, lemon pith and orange blossom ...   \n",
       "4        US  Much like the regular bottling from 2012, this...   \n",
       "\n",
       "                          designation  points  price           province  \\\n",
       "0                        Vulkà Bianco      87    NaN  Sicily & Sardinia   \n",
       "1                            Avidagos      87   15.0              Douro   \n",
       "2                                 NaN      87   14.0             Oregon   \n",
       "3                Reserve Late Harvest      87   13.0           Michigan   \n",
       "4  Vintner's Reserve Wild Child Block      87   65.0             Oregon   \n",
       "\n",
       "              region_1           region_2         taster_name  \\\n",
       "0                 Etna                NaN       Kerin O’Keefe   \n",
       "1                  NaN                NaN          Roger Voss   \n",
       "2    Willamette Valley  Willamette Valley        Paul Gregutt   \n",
       "3  Lake Michigan Shore                NaN  Alexander Peartree   \n",
       "4    Willamette Valley  Willamette Valley        Paul Gregutt   \n",
       "\n",
       "  taster_twitter_handle                                              title  \\\n",
       "0          @kerinokeefe                  Nicosia 2013 Vulkà Bianco  (Etna)   \n",
       "1            @vossroger      Quinta dos Avidagos 2011 Avidagos Red (Douro)   \n",
       "2           @paulgwine       Rainstorm 2013 Pinot Gris (Willamette Valley)   \n",
       "3                   NaN  St. Julian 2013 Reserve Late Harvest Riesling ...   \n",
       "4           @paulgwine   Sweet Cheeks 2012 Vintner's Reserve Wild Child...   \n",
       "\n",
       "          variety               winery  \n",
       "0     White Blend              Nicosia  \n",
       "1  Portuguese Red  Quinta dos Avidagos  \n",
       "2      Pinot Gris            Rainstorm  \n",
       "3        Riesling           St. Julian  \n",
       "4      Pinot Noir         Sweet Cheeks  "
      ]
     },
     "execution_count": 2,
     "metadata": {},
     "output_type": "execute_result"
    }
   ],
   "source": [
    "reviews.head()"
   ]
  },
  {
   "cell_type": "markdown",
   "id": "96284349",
   "metadata": {
    "papermill": {
     "duration": 0.007112,
     "end_time": "2022-12-07T00:33:48.021233",
     "exception": false,
     "start_time": "2022-12-07T00:33:48.014121",
     "status": "completed"
    },
    "tags": []
   },
   "source": [
    "# Exercises"
   ]
  },
  {
   "cell_type": "markdown",
   "id": "4a4f36b7",
   "metadata": {
    "papermill": {
     "duration": 0.007055,
     "end_time": "2022-12-07T00:33:48.035597",
     "exception": false,
     "start_time": "2022-12-07T00:33:48.028542",
     "status": "completed"
    },
    "tags": []
   },
   "source": [
    "## 1.\n",
    "\n",
    "Select the `description` column from `reviews` and assign the result to the variable `desc`."
   ]
  },
  {
   "cell_type": "code",
   "execution_count": 3,
   "id": "4b9fdda5",
   "metadata": {
    "execution": {
     "iopub.execute_input": "2022-12-07T00:33:48.052546Z",
     "iopub.status.busy": "2022-12-07T00:33:48.051762Z",
     "iopub.status.idle": "2022-12-07T00:33:48.059806Z",
     "shell.execute_reply": "2022-12-07T00:33:48.058935Z"
    },
    "papermill": {
     "duration": 0.019502,
     "end_time": "2022-12-07T00:33:48.062289",
     "exception": false,
     "start_time": "2022-12-07T00:33:48.042787",
     "status": "completed"
    },
    "tags": []
   },
   "outputs": [
    {
     "data": {
      "application/javascript": [
       "parent.postMessage({\"jupyterEvent\": \"custom.exercise_interaction\", \"data\": {\"outcomeType\": 4, \"interactionType\": 1, \"questionType\": 1, \"questionId\": \"1_SelectDescCol\", \"learnToolsVersion\": \"0.3.4\", \"valueTowardsCompletion\": 0.0, \"failureMessage\": \"\", \"exceptionClass\": \"\", \"trace\": \"\"}}, \"*\")"
      ],
      "text/plain": [
       "<IPython.core.display.Javascript object>"
      ]
     },
     "metadata": {},
     "output_type": "display_data"
    },
    {
     "data": {
      "text/markdown": [
       "<span style=\"color:#ccaa33\">Check:</span> When you've updated the starter code, `check()` will tell you whether your code is correct. You need to update the code that creates variable `desc`"
      ],
      "text/plain": [
       "Check: When you've updated the starter code, `check()` will tell you whether your code is correct. You need to update the code that creates variable `desc`"
      ]
     },
     "metadata": {},
     "output_type": "display_data"
    }
   ],
   "source": [
    "# Your code here\n",
    "desc = ____\n",
    "\n",
    "# Check your answer\n",
    "q1.check()"
   ]
  },
  {
   "cell_type": "markdown",
   "id": "4f0aed39",
   "metadata": {
    "papermill": {
     "duration": 0.008644,
     "end_time": "2022-12-07T00:33:48.078515",
     "exception": false,
     "start_time": "2022-12-07T00:33:48.069871",
     "status": "completed"
    },
    "tags": []
   },
   "source": [
    "Follow-up question: what type of object is `desc`? If you're not sure, you can check by calling Python's `type` function: `type(desc)`."
   ]
  },
  {
   "cell_type": "code",
   "execution_count": 4,
   "id": "5528a200",
   "metadata": {
    "execution": {
     "iopub.execute_input": "2022-12-07T00:33:48.096061Z",
     "iopub.status.busy": "2022-12-07T00:33:48.095301Z",
     "iopub.status.idle": "2022-12-07T00:33:48.099992Z",
     "shell.execute_reply": "2022-12-07T00:33:48.098618Z"
    },
    "papermill": {
     "duration": 0.016363,
     "end_time": "2022-12-07T00:33:48.102549",
     "exception": false,
     "start_time": "2022-12-07T00:33:48.086186",
     "status": "completed"
    },
    "tags": []
   },
   "outputs": [],
   "source": [
    "#q1.hint()\n",
    "#q1.solution()"
   ]
  },
  {
   "cell_type": "markdown",
   "id": "e75018d5",
   "metadata": {
    "papermill": {
     "duration": 0.007574,
     "end_time": "2022-12-07T00:33:48.118505",
     "exception": false,
     "start_time": "2022-12-07T00:33:48.110931",
     "status": "completed"
    },
    "tags": []
   },
   "source": [
    "## 2.\n",
    "\n",
    "Select the first value from the description column of `reviews`, assigning it to variable `first_description`."
   ]
  },
  {
   "cell_type": "code",
   "execution_count": 5,
   "id": "e1cda7a2",
   "metadata": {
    "execution": {
     "iopub.execute_input": "2022-12-07T00:33:48.136803Z",
     "iopub.status.busy": "2022-12-07T00:33:48.136373Z",
     "iopub.status.idle": "2022-12-07T00:33:48.148028Z",
     "shell.execute_reply": "2022-12-07T00:33:48.146893Z"
    },
    "papermill": {
     "duration": 0.023504,
     "end_time": "2022-12-07T00:33:48.150248",
     "exception": false,
     "start_time": "2022-12-07T00:33:48.126744",
     "status": "completed"
    },
    "tags": []
   },
   "outputs": [
    {
     "data": {
      "application/javascript": [
       "parent.postMessage({\"jupyterEvent\": \"custom.exercise_interaction\", \"data\": {\"outcomeType\": 4, \"interactionType\": 1, \"questionType\": 1, \"questionId\": \"2_FirstDesc\", \"learnToolsVersion\": \"0.3.4\", \"valueTowardsCompletion\": 0.0, \"failureMessage\": \"\", \"exceptionClass\": \"\", \"trace\": \"\"}}, \"*\")"
      ],
      "text/plain": [
       "<IPython.core.display.Javascript object>"
      ]
     },
     "metadata": {},
     "output_type": "display_data"
    },
    {
     "data": {
      "text/markdown": [
       "<span style=\"color:#ccaa33\">Check:</span> When you've updated the starter code, `check()` will tell you whether your code is correct. You need to update the code that creates variable `first_description`"
      ],
      "text/plain": [
       "Check: When you've updated the starter code, `check()` will tell you whether your code is correct. You need to update the code that creates variable `first_description`"
      ]
     },
     "metadata": {},
     "output_type": "display_data"
    },
    {
     "data": {
      "text/markdown": [],
      "text/plain": [
       "<learntools.core.constants.PlaceholderValue at 0x7f61193675d0>"
      ]
     },
     "execution_count": 5,
     "metadata": {},
     "output_type": "execute_result"
    }
   ],
   "source": [
    "first_description = ____\n",
    "\n",
    "# Check your answer\n",
    "q2.check()\n",
    "first_description"
   ]
  },
  {
   "cell_type": "code",
   "execution_count": 6,
   "id": "ce6c99cc",
   "metadata": {
    "execution": {
     "iopub.execute_input": "2022-12-07T00:33:48.168226Z",
     "iopub.status.busy": "2022-12-07T00:33:48.167718Z",
     "iopub.status.idle": "2022-12-07T00:33:48.171924Z",
     "shell.execute_reply": "2022-12-07T00:33:48.171115Z"
    },
    "papermill": {
     "duration": 0.015556,
     "end_time": "2022-12-07T00:33:48.173943",
     "exception": false,
     "start_time": "2022-12-07T00:33:48.158387",
     "status": "completed"
    },
    "tags": []
   },
   "outputs": [],
   "source": [
    "#q2.hint()\n",
    "#q2.solution()"
   ]
  },
  {
   "cell_type": "markdown",
   "id": "62d1a9b2",
   "metadata": {
    "papermill": {
     "duration": 0.008273,
     "end_time": "2022-12-07T00:33:48.190464",
     "exception": false,
     "start_time": "2022-12-07T00:33:48.182191",
     "status": "completed"
    },
    "tags": []
   },
   "source": [
    "## 3. \n",
    "\n",
    "Select the first row of data (the first record) from `reviews`, assigning it to the variable `first_row`."
   ]
  },
  {
   "cell_type": "code",
   "execution_count": 7,
   "id": "4c84ae08",
   "metadata": {
    "execution": {
     "iopub.execute_input": "2022-12-07T00:33:48.208953Z",
     "iopub.status.busy": "2022-12-07T00:33:48.208321Z",
     "iopub.status.idle": "2022-12-07T00:33:48.216872Z",
     "shell.execute_reply": "2022-12-07T00:33:48.216032Z"
    },
    "papermill": {
     "duration": 0.020467,
     "end_time": "2022-12-07T00:33:48.219041",
     "exception": false,
     "start_time": "2022-12-07T00:33:48.198574",
     "status": "completed"
    },
    "tags": []
   },
   "outputs": [
    {
     "data": {
      "application/javascript": [
       "parent.postMessage({\"jupyterEvent\": \"custom.exercise_interaction\", \"data\": {\"outcomeType\": 4, \"interactionType\": 1, \"questionType\": 1, \"questionId\": \"3_FirstRow\", \"learnToolsVersion\": \"0.3.4\", \"valueTowardsCompletion\": 0.0, \"failureMessage\": \"\", \"exceptionClass\": \"\", \"trace\": \"\"}}, \"*\")"
      ],
      "text/plain": [
       "<IPython.core.display.Javascript object>"
      ]
     },
     "metadata": {},
     "output_type": "display_data"
    },
    {
     "data": {
      "text/markdown": [
       "<span style=\"color:#ccaa33\">Check:</span> When you've updated the starter code, `check()` will tell you whether your code is correct. You need to update the code that creates variable `first_row`"
      ],
      "text/plain": [
       "Check: When you've updated the starter code, `check()` will tell you whether your code is correct. You need to update the code that creates variable `first_row`"
      ]
     },
     "metadata": {},
     "output_type": "display_data"
    },
    {
     "data": {
      "text/markdown": [],
      "text/plain": [
       "<learntools.core.constants.PlaceholderValue at 0x7f61193675d0>"
      ]
     },
     "execution_count": 7,
     "metadata": {},
     "output_type": "execute_result"
    }
   ],
   "source": [
    "first_row = ____\n",
    "\n",
    "# Check your answer\n",
    "q3.check()\n",
    "first_row"
   ]
  },
  {
   "cell_type": "code",
   "execution_count": 8,
   "id": "9afd0bbc",
   "metadata": {
    "execution": {
     "iopub.execute_input": "2022-12-07T00:33:48.238305Z",
     "iopub.status.busy": "2022-12-07T00:33:48.237774Z",
     "iopub.status.idle": "2022-12-07T00:33:48.242517Z",
     "shell.execute_reply": "2022-12-07T00:33:48.241309Z"
    },
    "papermill": {
     "duration": 0.01732,
     "end_time": "2022-12-07T00:33:48.245124",
     "exception": false,
     "start_time": "2022-12-07T00:33:48.227804",
     "status": "completed"
    },
    "tags": []
   },
   "outputs": [],
   "source": [
    "#q3.hint()\n",
    "#q3.solution()"
   ]
  },
  {
   "cell_type": "markdown",
   "id": "f13d76e3",
   "metadata": {
    "papermill": {
     "duration": 0.008617,
     "end_time": "2022-12-07T00:33:48.262543",
     "exception": false,
     "start_time": "2022-12-07T00:33:48.253926",
     "status": "completed"
    },
    "tags": []
   },
   "source": [
    "## 4.\n",
    "\n",
    "Select the first 10 values from the `description` column in `reviews`, assigning the result to variable `first_descriptions`.\n",
    "\n",
    "Hint: format your output as a pandas Series."
   ]
  },
  {
   "cell_type": "code",
   "execution_count": 9,
   "id": "a83b7460",
   "metadata": {
    "execution": {
     "iopub.execute_input": "2022-12-07T00:33:48.282407Z",
     "iopub.status.busy": "2022-12-07T00:33:48.281943Z",
     "iopub.status.idle": "2022-12-07T00:33:48.293209Z",
     "shell.execute_reply": "2022-12-07T00:33:48.292347Z"
    },
    "papermill": {
     "duration": 0.024252,
     "end_time": "2022-12-07T00:33:48.295320",
     "exception": false,
     "start_time": "2022-12-07T00:33:48.271068",
     "status": "completed"
    },
    "tags": []
   },
   "outputs": [
    {
     "data": {
      "application/javascript": [
       "parent.postMessage({\"jupyterEvent\": \"custom.exercise_interaction\", \"data\": {\"outcomeType\": 4, \"interactionType\": 1, \"questionType\": 1, \"questionId\": \"4_FirstDescs\", \"learnToolsVersion\": \"0.3.4\", \"valueTowardsCompletion\": 0.0, \"failureMessage\": \"\", \"exceptionClass\": \"\", \"trace\": \"\"}}, \"*\")"
      ],
      "text/plain": [
       "<IPython.core.display.Javascript object>"
      ]
     },
     "metadata": {},
     "output_type": "display_data"
    },
    {
     "data": {
      "text/markdown": [
       "<span style=\"color:#ccaa33\">Check:</span> When you've updated the starter code, `check()` will tell you whether your code is correct. You need to update the code that creates variable `first_descriptions`"
      ],
      "text/plain": [
       "Check: When you've updated the starter code, `check()` will tell you whether your code is correct. You need to update the code that creates variable `first_descriptions`"
      ]
     },
     "metadata": {},
     "output_type": "display_data"
    },
    {
     "data": {
      "text/markdown": [],
      "text/plain": [
       "<learntools.core.constants.PlaceholderValue at 0x7f61193675d0>"
      ]
     },
     "execution_count": 9,
     "metadata": {},
     "output_type": "execute_result"
    }
   ],
   "source": [
    "first_descriptions = ____\n",
    "\n",
    "# Check your answer\n",
    "q4.check()\n",
    "first_descriptions"
   ]
  },
  {
   "cell_type": "code",
   "execution_count": 10,
   "id": "cd58e75f",
   "metadata": {
    "execution": {
     "iopub.execute_input": "2022-12-07T00:33:48.315900Z",
     "iopub.status.busy": "2022-12-07T00:33:48.315198Z",
     "iopub.status.idle": "2022-12-07T00:33:48.319971Z",
     "shell.execute_reply": "2022-12-07T00:33:48.318954Z"
    },
    "papermill": {
     "duration": 0.017551,
     "end_time": "2022-12-07T00:33:48.322469",
     "exception": false,
     "start_time": "2022-12-07T00:33:48.304918",
     "status": "completed"
    },
    "tags": []
   },
   "outputs": [],
   "source": [
    "#q4.hint()\n",
    "#q4.solution()"
   ]
  },
  {
   "cell_type": "markdown",
   "id": "985edd25",
   "metadata": {
    "papermill": {
     "duration": 0.008833,
     "end_time": "2022-12-07T00:33:48.340506",
     "exception": false,
     "start_time": "2022-12-07T00:33:48.331673",
     "status": "completed"
    },
    "tags": []
   },
   "source": [
    "## 5.\n",
    "\n",
    "Select the records with index labels `1`, `2`, `3`, `5`, and `8`, assigning the result to the variable `sample_reviews`.\n",
    "\n",
    "In other words, generate the following DataFrame:\n",
    "\n",
    "![](https://i.imgur.com/sHZvI1O.png)"
   ]
  },
  {
   "cell_type": "code",
   "execution_count": 11,
   "id": "f68fe06e",
   "metadata": {
    "execution": {
     "iopub.execute_input": "2022-12-07T00:33:48.360952Z",
     "iopub.status.busy": "2022-12-07T00:33:48.360117Z",
     "iopub.status.idle": "2022-12-07T00:33:48.371947Z",
     "shell.execute_reply": "2022-12-07T00:33:48.370978Z"
    },
    "papermill": {
     "duration": 0.024578,
     "end_time": "2022-12-07T00:33:48.374183",
     "exception": false,
     "start_time": "2022-12-07T00:33:48.349605",
     "status": "completed"
    },
    "tags": []
   },
   "outputs": [
    {
     "data": {
      "application/javascript": [
       "parent.postMessage({\"jupyterEvent\": \"custom.exercise_interaction\", \"data\": {\"outcomeType\": 4, \"interactionType\": 1, \"questionType\": 1, \"questionId\": \"5_SampleReviews\", \"learnToolsVersion\": \"0.3.4\", \"valueTowardsCompletion\": 0.0, \"failureMessage\": \"\", \"exceptionClass\": \"\", \"trace\": \"\"}}, \"*\")"
      ],
      "text/plain": [
       "<IPython.core.display.Javascript object>"
      ]
     },
     "metadata": {},
     "output_type": "display_data"
    },
    {
     "data": {
      "text/markdown": [
       "<span style=\"color:#ccaa33\">Check:</span> When you've updated the starter code, `check()` will tell you whether your code is correct. You need to update the code that creates variable `sample_reviews`"
      ],
      "text/plain": [
       "Check: When you've updated the starter code, `check()` will tell you whether your code is correct. You need to update the code that creates variable `sample_reviews`"
      ]
     },
     "metadata": {},
     "output_type": "display_data"
    },
    {
     "data": {
      "text/markdown": [],
      "text/plain": [
       "<learntools.core.constants.PlaceholderValue at 0x7f61193675d0>"
      ]
     },
     "execution_count": 11,
     "metadata": {},
     "output_type": "execute_result"
    }
   ],
   "source": [
    "sample_reviews = ____\n",
    "\n",
    "# Check your answer\n",
    "q5.check()\n",
    "sample_reviews"
   ]
  },
  {
   "cell_type": "code",
   "execution_count": 12,
   "id": "81f05b96",
   "metadata": {
    "execution": {
     "iopub.execute_input": "2022-12-07T00:33:48.396016Z",
     "iopub.status.busy": "2022-12-07T00:33:48.395147Z",
     "iopub.status.idle": "2022-12-07T00:33:48.400194Z",
     "shell.execute_reply": "2022-12-07T00:33:48.398929Z"
    },
    "papermill": {
     "duration": 0.018932,
     "end_time": "2022-12-07T00:33:48.402825",
     "exception": false,
     "start_time": "2022-12-07T00:33:48.383893",
     "status": "completed"
    },
    "tags": []
   },
   "outputs": [],
   "source": [
    "#q5.hint()\n",
    "#q5.solution()"
   ]
  },
  {
   "cell_type": "markdown",
   "id": "6ebd69f8",
   "metadata": {
    "papermill": {
     "duration": 0.009905,
     "end_time": "2022-12-07T00:33:48.422878",
     "exception": false,
     "start_time": "2022-12-07T00:33:48.412973",
     "status": "completed"
    },
    "tags": []
   },
   "source": [
    "## 6.\n",
    "\n",
    "Create a variable `df` containing the `country`, `province`, `region_1`, and `region_2` columns of the records with the index labels `0`, `1`, `10`, and `100`. In other words, generate the following DataFrame:\n",
    "\n",
    "![](https://i.imgur.com/FUCGiKP.png)"
   ]
  },
  {
   "cell_type": "code",
   "execution_count": 13,
   "id": "44db294e",
   "metadata": {
    "execution": {
     "iopub.execute_input": "2022-12-07T00:33:48.444636Z",
     "iopub.status.busy": "2022-12-07T00:33:48.444231Z",
     "iopub.status.idle": "2022-12-07T00:33:48.455752Z",
     "shell.execute_reply": "2022-12-07T00:33:48.454758Z"
    },
    "papermill": {
     "duration": 0.024853,
     "end_time": "2022-12-07T00:33:48.457965",
     "exception": false,
     "start_time": "2022-12-07T00:33:48.433112",
     "status": "completed"
    },
    "tags": []
   },
   "outputs": [
    {
     "data": {
      "application/javascript": [
       "parent.postMessage({\"jupyterEvent\": \"custom.exercise_interaction\", \"data\": {\"outcomeType\": 4, \"interactionType\": 1, \"questionType\": 1, \"questionId\": \"6_RowColSelect\", \"learnToolsVersion\": \"0.3.4\", \"valueTowardsCompletion\": 0.0, \"failureMessage\": \"\", \"exceptionClass\": \"\", \"trace\": \"\"}}, \"*\")"
      ],
      "text/plain": [
       "<IPython.core.display.Javascript object>"
      ]
     },
     "metadata": {},
     "output_type": "display_data"
    },
    {
     "data": {
      "text/markdown": [
       "<span style=\"color:#ccaa33\">Check:</span> When you've updated the starter code, `check()` will tell you whether your code is correct. You need to update the code that creates variable `df`"
      ],
      "text/plain": [
       "Check: When you've updated the starter code, `check()` will tell you whether your code is correct. You need to update the code that creates variable `df`"
      ]
     },
     "metadata": {},
     "output_type": "display_data"
    },
    {
     "data": {
      "text/markdown": [],
      "text/plain": [
       "<learntools.core.constants.PlaceholderValue at 0x7f61193675d0>"
      ]
     },
     "execution_count": 13,
     "metadata": {},
     "output_type": "execute_result"
    }
   ],
   "source": [
    "df = ____\n",
    "\n",
    "# Check your answer\n",
    "q6.check()\n",
    "df"
   ]
  },
  {
   "cell_type": "code",
   "execution_count": 14,
   "id": "41891867",
   "metadata": {
    "execution": {
     "iopub.execute_input": "2022-12-07T00:33:48.479739Z",
     "iopub.status.busy": "2022-12-07T00:33:48.479363Z",
     "iopub.status.idle": "2022-12-07T00:33:48.483530Z",
     "shell.execute_reply": "2022-12-07T00:33:48.482283Z"
    },
    "papermill": {
     "duration": 0.017775,
     "end_time": "2022-12-07T00:33:48.485729",
     "exception": false,
     "start_time": "2022-12-07T00:33:48.467954",
     "status": "completed"
    },
    "tags": []
   },
   "outputs": [],
   "source": [
    "#q6.hint()\n",
    "#q6.solution()"
   ]
  },
  {
   "cell_type": "markdown",
   "id": "114b7360",
   "metadata": {
    "papermill": {
     "duration": 0.009736,
     "end_time": "2022-12-07T00:33:48.505501",
     "exception": false,
     "start_time": "2022-12-07T00:33:48.495765",
     "status": "completed"
    },
    "tags": []
   },
   "source": [
    "## 7.\n",
    "\n",
    "Create a variable `df` containing the `country` and `variety` columns of the first 100 records. \n",
    "\n",
    "Hint: you may use `loc` or `iloc`. When working on the answer this question and the several of the ones that follow, keep the following \"gotcha\" described in the tutorial:\n",
    "\n",
    "> `iloc` uses the Python stdlib indexing scheme, where the first element of the range is included and the last one excluded. \n",
    "`loc`, meanwhile, indexes inclusively. \n",
    "\n",
    "> This is particularly confusing when the DataFrame index is a simple numerical list, e.g. `0,...,1000`. In this case `df.iloc[0:1000]` will return 1000 entries, while `df.loc[0:1000]` return 1001 of them! To get 1000 elements using `loc`, you will need to go one lower and ask for `df.iloc[0:999]`. "
   ]
  },
  {
   "cell_type": "code",
   "execution_count": 15,
   "id": "024a09f7",
   "metadata": {
    "execution": {
     "iopub.execute_input": "2022-12-07T00:33:48.527345Z",
     "iopub.status.busy": "2022-12-07T00:33:48.526904Z",
     "iopub.status.idle": "2022-12-07T00:33:48.538775Z",
     "shell.execute_reply": "2022-12-07T00:33:48.537247Z"
    },
    "papermill": {
     "duration": 0.025704,
     "end_time": "2022-12-07T00:33:48.541325",
     "exception": false,
     "start_time": "2022-12-07T00:33:48.515621",
     "status": "completed"
    },
    "tags": []
   },
   "outputs": [
    {
     "data": {
      "application/javascript": [
       "parent.postMessage({\"jupyterEvent\": \"custom.exercise_interaction\", \"data\": {\"outcomeType\": 4, \"interactionType\": 1, \"questionType\": 1, \"questionId\": \"7_RowColSelect2\", \"learnToolsVersion\": \"0.3.4\", \"valueTowardsCompletion\": 0.0, \"failureMessage\": \"\", \"exceptionClass\": \"\", \"trace\": \"\"}}, \"*\")"
      ],
      "text/plain": [
       "<IPython.core.display.Javascript object>"
      ]
     },
     "metadata": {},
     "output_type": "display_data"
    },
    {
     "data": {
      "text/markdown": [
       "<span style=\"color:#ccaa33\">Check:</span> When you've updated the starter code, `check()` will tell you whether your code is correct. You need to update the code that creates variable `df`"
      ],
      "text/plain": [
       "Check: When you've updated the starter code, `check()` will tell you whether your code is correct. You need to update the code that creates variable `df`"
      ]
     },
     "metadata": {},
     "output_type": "display_data"
    },
    {
     "data": {
      "text/markdown": [],
      "text/plain": [
       "<learntools.core.constants.PlaceholderValue at 0x7f61193675d0>"
      ]
     },
     "execution_count": 15,
     "metadata": {},
     "output_type": "execute_result"
    }
   ],
   "source": [
    "df = ____\n",
    "\n",
    "# Check your answer\n",
    "q7.check()\n",
    "df"
   ]
  },
  {
   "cell_type": "code",
   "execution_count": 16,
   "id": "a548338b",
   "metadata": {
    "execution": {
     "iopub.execute_input": "2022-12-07T00:33:48.564542Z",
     "iopub.status.busy": "2022-12-07T00:33:48.564135Z",
     "iopub.status.idle": "2022-12-07T00:33:48.568754Z",
     "shell.execute_reply": "2022-12-07T00:33:48.567440Z"
    },
    "papermill": {
     "duration": 0.019428,
     "end_time": "2022-12-07T00:33:48.571206",
     "exception": false,
     "start_time": "2022-12-07T00:33:48.551778",
     "status": "completed"
    },
    "tags": []
   },
   "outputs": [],
   "source": [
    "#q7.hint()\n",
    "#q7.solution()"
   ]
  },
  {
   "cell_type": "markdown",
   "id": "f54a8ff7",
   "metadata": {
    "papermill": {
     "duration": 0.010095,
     "end_time": "2022-12-07T00:33:48.591831",
     "exception": false,
     "start_time": "2022-12-07T00:33:48.581736",
     "status": "completed"
    },
    "tags": []
   },
   "source": [
    "## 8.\n",
    "\n",
    "Create a DataFrame `italian_wines` containing reviews of wines made in `Italy`. Hint: `reviews.country` equals what?"
   ]
  },
  {
   "cell_type": "code",
   "execution_count": 17,
   "id": "7fba0df6",
   "metadata": {
    "execution": {
     "iopub.execute_input": "2022-12-07T00:33:48.615313Z",
     "iopub.status.busy": "2022-12-07T00:33:48.614309Z",
     "iopub.status.idle": "2022-12-07T00:33:48.624503Z",
     "shell.execute_reply": "2022-12-07T00:33:48.623364Z"
    },
    "papermill": {
     "duration": 0.024289,
     "end_time": "2022-12-07T00:33:48.626674",
     "exception": false,
     "start_time": "2022-12-07T00:33:48.602385",
     "status": "completed"
    },
    "tags": []
   },
   "outputs": [
    {
     "data": {
      "application/javascript": [
       "parent.postMessage({\"jupyterEvent\": \"custom.exercise_interaction\", \"data\": {\"outcomeType\": 4, \"interactionType\": 1, \"questionType\": 1, \"questionId\": \"8_ItalianWines\", \"learnToolsVersion\": \"0.3.4\", \"valueTowardsCompletion\": 0.0, \"failureMessage\": \"\", \"exceptionClass\": \"\", \"trace\": \"\"}}, \"*\")"
      ],
      "text/plain": [
       "<IPython.core.display.Javascript object>"
      ]
     },
     "metadata": {},
     "output_type": "display_data"
    },
    {
     "data": {
      "text/markdown": [
       "<span style=\"color:#ccaa33\">Check:</span> When you've updated the starter code, `check()` will tell you whether your code is correct. You need to update the code that creates variable `italian_wines`"
      ],
      "text/plain": [
       "Check: When you've updated the starter code, `check()` will tell you whether your code is correct. You need to update the code that creates variable `italian_wines`"
      ]
     },
     "metadata": {},
     "output_type": "display_data"
    }
   ],
   "source": [
    "italian_wines = ____\n",
    "\n",
    "# Check your answer\n",
    "q8.check()"
   ]
  },
  {
   "cell_type": "code",
   "execution_count": 18,
   "id": "a5a53c88",
   "metadata": {
    "execution": {
     "iopub.execute_input": "2022-12-07T00:33:48.649961Z",
     "iopub.status.busy": "2022-12-07T00:33:48.649529Z",
     "iopub.status.idle": "2022-12-07T00:33:48.654986Z",
     "shell.execute_reply": "2022-12-07T00:33:48.653817Z"
    },
    "papermill": {
     "duration": 0.02012,
     "end_time": "2022-12-07T00:33:48.657577",
     "exception": false,
     "start_time": "2022-12-07T00:33:48.637457",
     "status": "completed"
    },
    "tags": []
   },
   "outputs": [],
   "source": [
    "#q8.hint()\n",
    "#q8.solution()"
   ]
  },
  {
   "cell_type": "markdown",
   "id": "805deff9",
   "metadata": {
    "papermill": {
     "duration": 0.010407,
     "end_time": "2022-12-07T00:33:48.678981",
     "exception": false,
     "start_time": "2022-12-07T00:33:48.668574",
     "status": "completed"
    },
    "tags": []
   },
   "source": [
    "## 9.\n",
    "\n",
    "Create a DataFrame `top_oceania_wines` containing all reviews with at least 95 points (out of 100) for wines from Australia or New Zealand."
   ]
  },
  {
   "cell_type": "code",
   "execution_count": 19,
   "id": "318e54a1",
   "metadata": {
    "execution": {
     "iopub.execute_input": "2022-12-07T00:33:48.702640Z",
     "iopub.status.busy": "2022-12-07T00:33:48.702169Z",
     "iopub.status.idle": "2022-12-07T00:33:48.715352Z",
     "shell.execute_reply": "2022-12-07T00:33:48.713958Z"
    },
    "papermill": {
     "duration": 0.028275,
     "end_time": "2022-12-07T00:33:48.717962",
     "exception": false,
     "start_time": "2022-12-07T00:33:48.689687",
     "status": "completed"
    },
    "tags": []
   },
   "outputs": [
    {
     "data": {
      "application/javascript": [
       "parent.postMessage({\"jupyterEvent\": \"custom.exercise_interaction\", \"data\": {\"outcomeType\": 4, \"interactionType\": 1, \"questionType\": 1, \"questionId\": \"9_TopOceanicWines\", \"learnToolsVersion\": \"0.3.4\", \"valueTowardsCompletion\": 0.0, \"failureMessage\": \"\", \"exceptionClass\": \"\", \"trace\": \"\"}}, \"*\")"
      ],
      "text/plain": [
       "<IPython.core.display.Javascript object>"
      ]
     },
     "metadata": {},
     "output_type": "display_data"
    },
    {
     "data": {
      "text/markdown": [
       "<span style=\"color:#ccaa33\">Check:</span> When you've updated the starter code, `check()` will tell you whether your code is correct. You need to update the code that creates variable `top_oceania_wines`"
      ],
      "text/plain": [
       "Check: When you've updated the starter code, `check()` will tell you whether your code is correct. You need to update the code that creates variable `top_oceania_wines`"
      ]
     },
     "metadata": {},
     "output_type": "display_data"
    },
    {
     "data": {
      "text/markdown": [],
      "text/plain": [
       "<learntools.core.constants.PlaceholderValue at 0x7f61193675d0>"
      ]
     },
     "execution_count": 19,
     "metadata": {},
     "output_type": "execute_result"
    }
   ],
   "source": [
    "top_oceania_wines = ____\n",
    "\n",
    "# Check your answer\n",
    "q9.check()\n",
    "top_oceania_wines"
   ]
  },
  {
   "cell_type": "code",
   "execution_count": 20,
   "id": "47bc039a",
   "metadata": {
    "execution": {
     "iopub.execute_input": "2022-12-07T00:33:48.742691Z",
     "iopub.status.busy": "2022-12-07T00:33:48.742277Z",
     "iopub.status.idle": "2022-12-07T00:33:48.748009Z",
     "shell.execute_reply": "2022-12-07T00:33:48.746666Z"
    },
    "papermill": {
     "duration": 0.021035,
     "end_time": "2022-12-07T00:33:48.750419",
     "exception": false,
     "start_time": "2022-12-07T00:33:48.729384",
     "status": "completed"
    },
    "tags": []
   },
   "outputs": [],
   "source": [
    "#q9.hint()\n",
    "#q9.solution()"
   ]
  },
  {
   "cell_type": "markdown",
   "id": "e0b37cf3",
   "metadata": {
    "papermill": {
     "duration": 0.010871,
     "end_time": "2022-12-07T00:33:48.772490",
     "exception": false,
     "start_time": "2022-12-07T00:33:48.761619",
     "status": "completed"
    },
    "tags": []
   },
   "source": [
    "# Keep going\n",
    "\n",
    "Move on to learn about **[summary functions and maps](https://www.kaggle.com/residentmario/summary-functions-and-maps)**."
   ]
  },
  {
   "cell_type": "markdown",
   "id": "98ecfd7d",
   "metadata": {
    "papermill": {
     "duration": 0.011223,
     "end_time": "2022-12-07T00:33:48.794826",
     "exception": false,
     "start_time": "2022-12-07T00:33:48.783603",
     "status": "completed"
    },
    "tags": []
   },
   "source": [
    "---\n",
    "\n",
    "\n",
    "\n",
    "\n",
    "*Have questions or comments? Visit the [course discussion forum](https://www.kaggle.com/learn/pandas/discussion) to chat with other learners.*"
   ]
  }
 ],
 "metadata": {
  "kernelspec": {
   "display_name": "Python 3",
   "language": "python",
   "name": "python3"
  },
  "language_info": {
   "codemirror_mode": {
    "name": "ipython",
    "version": 3
   },
   "file_extension": ".py",
   "mimetype": "text/x-python",
   "name": "python",
   "nbconvert_exporter": "python",
   "pygments_lexer": "ipython3",
   "version": "3.7.12"
  },
  "papermill": {
   "default_parameters": {},
   "duration": 15.477993,
   "end_time": "2022-12-07T00:33:49.530507",
   "environment_variables": {},
   "exception": null,
   "input_path": "__notebook__.ipynb",
   "output_path": "__notebook__.ipynb",
   "parameters": {},
   "start_time": "2022-12-07T00:33:34.052514",
   "version": "2.3.4"
  }
 },
 "nbformat": 4,
 "nbformat_minor": 5
}
