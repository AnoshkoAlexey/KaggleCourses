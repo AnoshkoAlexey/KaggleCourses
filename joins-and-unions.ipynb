{
 "cells": [
  {
   "cell_type": "markdown",
   "id": "600ccfde",
   "metadata": {
    "papermill": {
     "duration": 0.004579,
     "end_time": "2022-12-14T21:19:37.580233",
     "exception": false,
     "start_time": "2022-12-14T21:19:37.575654",
     "status": "completed"
    },
    "tags": []
   },
   "source": [
    "# Introduction\n",
    "\n",
    "In the [Intro to SQL micro-course](https://www.kaggle.com/learn/intro-to-sql), you learned how to use [**INNER JOIN**](https://www.kaggle.com/dansbecker/joining-data) to consolidate information from two different tables.  Now you'll learn about a few more types of **JOIN**, along with how to use **UNIONs** to pull information from multiple tables.  \n",
    "\n",
    "Along the way, we'll work with two imaginary tables, called `owners` and `pets`. \n",
    "\n",
    "![two tables](https://i.imgur.com/dYVwS4T.png)\n",
    "\n",
    "Each row of the `owners` table identifies a different pet owner, where the `ID` column is a unique identifier.  The `Pet_ID` column (in the `owners` table) contains the ID for the pet that belongs to the owner (this number matches the ID for the pet from the `pets` table).\n",
    "\n",
    "For example, \n",
    "- the `pets` table shows that Dr. Harris Bonkers is the pet with ID 1.\n",
    "- The `owners` table shows that Aubrey Little is the owner of the pet with ID 1.\n",
    "\n",
    "Putting these two facts together, Dr. Harris Bonkers is owned by Aubrey Little.  Likewise, since Veronica Dunn does not have a corresponding `Pet_ID`, she does not have a pet.  And, since 5 does not appear in the `Pet_ID` column, Maisie does not have an owner.\n",
    "\n",
    "# JOINs\n",
    "\n",
    "Recall that we can use an **INNER JOIN** to pull rows from both tables where the value in the `Pet_ID` column in the `owners` table has a match in the `ID` column of the `pets` table.\n",
    "\n",
    "![...](https://i.imgur.com/C5wimKT.png)\n",
    "\n",
    "In this case, Veronica Dunn and Maisie are not included in the results.  But what if we instead want to create a table containing all pets, regardless of whether they have owners?  Or, what if we want to combine all of the rows in both tables?  In these cases, we need only use a different type of **JOIN**.\n",
    "\n",
    "For instance, to create a table containing all rows from the `owners` table, we use a **LEFT JOIN**.  In this case, \"left\" refers to the table that appears before the **JOIN** in the query.  (\"Right\" refers to the table that is after the **JOIN**.)\n",
    "\n",
    "![...](https://i.imgur.com/tnOqw2S.png)\n",
    "\n",
    "Replacing **INNER JOIN** in the query above with **LEFT JOIN** returns all rows where the two tables have matching entries, along with all of the rows in the left table (whether there is a match or not).  \n",
    "\n",
    "If we instead use a **RIGHT JOIN**, we get the matching rows, along with all rows in the right table (whether there is a match or not).\n",
    "\n",
    "Finally, a **FULL JOIN** returns all rows from both tables.  Note that in general, any row that does not have a match in both tables will have NULL entries for the missing values.  You can see this in the image below.\n",
    "\n",
    "![...](https://i.imgur.com/1Dvmg8S.png)\n",
    "\n",
    "\n",
    "# UNIONs\n",
    "\n",
    "As you've seen, **JOINs** horizontally combine results from different tables.  If you instead would like to vertically concatenate columns, you can do so with a **UNION**.  The example query below combines the `Age` columns from both tables.\n",
    "\n",
    "![...](https://i.imgur.com/oa6VDig.png)\n",
    "\n",
    "Note that with a **UNION**, the data types of both columns must be the same, but the column names can be different.  (So, for instance, we cannot take the **UNION** of the `Age` column from the `owners` table and the `Pet_Name` column from the `pets` table.) \n",
    "\n",
    "We use **UNION ALL** to include duplicate values - you'll notice that `9` appears in both the `owners` table and the `pets` table, and shows up twice in the concatenated results.  If you'd like to drop duplicate values, you need only change **UNION ALL** in the query to **UNION DISTINCT**.\n",
    "\n",
    "# Example\n",
    "\n",
    "We'll work with the [Hacker News](https://www.kaggle.com/hacker-news/hacker-news) dataset. We begin by reviewing the first several rows of the `comments` table. (_The corresponding code is hidden, but you can un-hide it by clicking on the \"Code\" button below._)"
   ]
  },
  {
   "cell_type": "code",
   "execution_count": 1,
   "id": "98c8b574",
   "metadata": {
    "_kg_hide-input": true,
    "execution": {
     "iopub.execute_input": "2022-12-14T21:19:37.589415Z",
     "iopub.status.busy": "2022-12-14T21:19:37.588976Z",
     "iopub.status.idle": "2022-12-14T21:19:39.620053Z",
     "shell.execute_reply": "2022-12-14T21:19:39.619153Z"
    },
    "papermill": {
     "duration": 2.0385,
     "end_time": "2022-12-14T21:19:39.622498",
     "exception": false,
     "start_time": "2022-12-14T21:19:37.583998",
     "status": "completed"
    },
    "tags": []
   },
   "outputs": [
    {
     "name": "stdout",
     "output_type": "stream",
     "text": [
      "Using Kaggle's public dataset BigQuery integration.\n"
     ]
    },
    {
     "name": "stderr",
     "output_type": "stream",
     "text": [
      "/opt/conda/lib/python3.7/site-packages/ipykernel_launcher.py:19: UserWarning: Cannot use bqstorage_client if max_results is set, reverting to fetching data with the tabledata.list endpoint.\n"
     ]
    },
    {
     "data": {
      "text/html": [
       "<div>\n",
       "<style scoped>\n",
       "    .dataframe tbody tr th:only-of-type {\n",
       "        vertical-align: middle;\n",
       "    }\n",
       "\n",
       "    .dataframe tbody tr th {\n",
       "        vertical-align: top;\n",
       "    }\n",
       "\n",
       "    .dataframe thead th {\n",
       "        text-align: right;\n",
       "    }\n",
       "</style>\n",
       "<table border=\"1\" class=\"dataframe\">\n",
       "  <thead>\n",
       "    <tr style=\"text-align: right;\">\n",
       "      <th></th>\n",
       "      <th>id</th>\n",
       "      <th>by</th>\n",
       "      <th>author</th>\n",
       "      <th>time</th>\n",
       "      <th>time_ts</th>\n",
       "      <th>text</th>\n",
       "      <th>parent</th>\n",
       "      <th>deleted</th>\n",
       "      <th>dead</th>\n",
       "      <th>ranking</th>\n",
       "    </tr>\n",
       "  </thead>\n",
       "  <tbody>\n",
       "    <tr>\n",
       "      <th>0</th>\n",
       "      <td>9734136</td>\n",
       "      <td>None</td>\n",
       "      <td>None</td>\n",
       "      <td>1434565400</td>\n",
       "      <td>2015-06-17 18:23:20+00:00</td>\n",
       "      <td>None</td>\n",
       "      <td>9733698</td>\n",
       "      <td>True</td>\n",
       "      <td>None</td>\n",
       "      <td>0</td>\n",
       "    </tr>\n",
       "    <tr>\n",
       "      <th>1</th>\n",
       "      <td>4921158</td>\n",
       "      <td>None</td>\n",
       "      <td>None</td>\n",
       "      <td>1355496966</td>\n",
       "      <td>2012-12-14 14:56:06+00:00</td>\n",
       "      <td>None</td>\n",
       "      <td>4921100</td>\n",
       "      <td>True</td>\n",
       "      <td>None</td>\n",
       "      <td>0</td>\n",
       "    </tr>\n",
       "    <tr>\n",
       "      <th>2</th>\n",
       "      <td>7500568</td>\n",
       "      <td>None</td>\n",
       "      <td>None</td>\n",
       "      <td>1396261158</td>\n",
       "      <td>2014-03-31 10:19:18+00:00</td>\n",
       "      <td>None</td>\n",
       "      <td>7499385</td>\n",
       "      <td>True</td>\n",
       "      <td>None</td>\n",
       "      <td>0</td>\n",
       "    </tr>\n",
       "    <tr>\n",
       "      <th>3</th>\n",
       "      <td>8909635</td>\n",
       "      <td>None</td>\n",
       "      <td>None</td>\n",
       "      <td>1421627275</td>\n",
       "      <td>2015-01-19 00:27:55+00:00</td>\n",
       "      <td>None</td>\n",
       "      <td>8901135</td>\n",
       "      <td>True</td>\n",
       "      <td>None</td>\n",
       "      <td>0</td>\n",
       "    </tr>\n",
       "    <tr>\n",
       "      <th>4</th>\n",
       "      <td>9256463</td>\n",
       "      <td>None</td>\n",
       "      <td>None</td>\n",
       "      <td>1427204705</td>\n",
       "      <td>2015-03-24 13:45:05+00:00</td>\n",
       "      <td>None</td>\n",
       "      <td>9256346</td>\n",
       "      <td>True</td>\n",
       "      <td>None</td>\n",
       "      <td>0</td>\n",
       "    </tr>\n",
       "  </tbody>\n",
       "</table>\n",
       "</div>"
      ],
      "text/plain": [
       "        id    by author        time                   time_ts  text   parent  \\\n",
       "0  9734136  None   None  1434565400 2015-06-17 18:23:20+00:00  None  9733698   \n",
       "1  4921158  None   None  1355496966 2012-12-14 14:56:06+00:00  None  4921100   \n",
       "2  7500568  None   None  1396261158 2014-03-31 10:19:18+00:00  None  7499385   \n",
       "3  8909635  None   None  1421627275 2015-01-19 00:27:55+00:00  None  8901135   \n",
       "4  9256463  None   None  1427204705 2015-03-24 13:45:05+00:00  None  9256346   \n",
       "\n",
       "   deleted  dead  ranking  \n",
       "0     True  None        0  \n",
       "1     True  None        0  \n",
       "2     True  None        0  \n",
       "3     True  None        0  \n",
       "4     True  None        0  "
      ]
     },
     "execution_count": 1,
     "metadata": {},
     "output_type": "execute_result"
    }
   ],
   "source": [
    "\n",
    "from google.cloud import bigquery\n",
    "\n",
    "# Create a \"Client\" object\n",
    "client = bigquery.Client()\n",
    "\n",
    "# Construct a reference to the \"hacker_news\" dataset\n",
    "dataset_ref = client.dataset(\"hacker_news\", project=\"bigquery-public-data\")\n",
    "\n",
    "# API request - fetch the dataset\n",
    "dataset = client.get_dataset(dataset_ref)\n",
    "\n",
    "# Construct a reference to the \"comments\" table\n",
    "table_ref = dataset_ref.table(\"comments\")\n",
    "\n",
    "# API request - fetch the table\n",
    "table = client.get_table(table_ref)\n",
    "\n",
    "# Preview the first five lines of the table\n",
    "client.list_rows(table, max_results=5).to_dataframe()"
   ]
  },
  {
   "cell_type": "markdown",
   "id": "458634de",
   "metadata": {
    "papermill": {
     "duration": 0.003524,
     "end_time": "2022-12-14T21:19:39.630133",
     "exception": false,
     "start_time": "2022-12-14T21:19:39.626609",
     "status": "completed"
    },
    "tags": []
   },
   "source": [
    "You'll also work with the `stories` table."
   ]
  },
  {
   "cell_type": "code",
   "execution_count": 2,
   "id": "5d986509",
   "metadata": {
    "_kg_hide-input": true,
    "execution": {
     "iopub.execute_input": "2022-12-14T21:19:39.639994Z",
     "iopub.status.busy": "2022-12-14T21:19:39.639039Z",
     "iopub.status.idle": "2022-12-14T21:19:40.908386Z",
     "shell.execute_reply": "2022-12-14T21:19:40.907187Z"
    },
    "papermill": {
     "duration": 1.27745,
     "end_time": "2022-12-14T21:19:40.911309",
     "exception": false,
     "start_time": "2022-12-14T21:19:39.633859",
     "status": "completed"
    },
    "tags": []
   },
   "outputs": [
    {
     "name": "stderr",
     "output_type": "stream",
     "text": [
      "/opt/conda/lib/python3.7/site-packages/ipykernel_launcher.py:8: UserWarning: Cannot use bqstorage_client if max_results is set, reverting to fetching data with the tabledata.list endpoint.\n",
      "  \n"
     ]
    },
    {
     "data": {
      "text/html": [
       "<div>\n",
       "<style scoped>\n",
       "    .dataframe tbody tr th:only-of-type {\n",
       "        vertical-align: middle;\n",
       "    }\n",
       "\n",
       "    .dataframe tbody tr th {\n",
       "        vertical-align: top;\n",
       "    }\n",
       "\n",
       "    .dataframe thead th {\n",
       "        text-align: right;\n",
       "    }\n",
       "</style>\n",
       "<table border=\"1\" class=\"dataframe\">\n",
       "  <thead>\n",
       "    <tr style=\"text-align: right;\">\n",
       "      <th></th>\n",
       "      <th>id</th>\n",
       "      <th>by</th>\n",
       "      <th>score</th>\n",
       "      <th>time</th>\n",
       "      <th>time_ts</th>\n",
       "      <th>title</th>\n",
       "      <th>url</th>\n",
       "      <th>text</th>\n",
       "      <th>deleted</th>\n",
       "      <th>dead</th>\n",
       "      <th>descendants</th>\n",
       "      <th>author</th>\n",
       "    </tr>\n",
       "  </thead>\n",
       "  <tbody>\n",
       "    <tr>\n",
       "      <th>0</th>\n",
       "      <td>6988445</td>\n",
       "      <td>cflick</td>\n",
       "      <td>0</td>\n",
       "      <td>1388454902</td>\n",
       "      <td>2013-12-31 01:55:02+00:00</td>\n",
       "      <td>Appshare</td>\n",
       "      <td>http://chadflick.ws/appshare.html</td>\n",
       "      <td>Did facebook or angrybirds pay you?  We will!</td>\n",
       "      <td>None</td>\n",
       "      <td>True</td>\n",
       "      <td>NaN</td>\n",
       "      <td>cflick</td>\n",
       "    </tr>\n",
       "    <tr>\n",
       "      <th>1</th>\n",
       "      <td>7047571</td>\n",
       "      <td>Rd2</td>\n",
       "      <td>1</td>\n",
       "      <td>1389562985</td>\n",
       "      <td>2014-01-12 21:43:05+00:00</td>\n",
       "      <td>Java in startups</td>\n",
       "      <td></td>\n",
       "      <td>Hello, hacker news!&lt;p&gt;Have any of you used jav...</td>\n",
       "      <td>None</td>\n",
       "      <td>True</td>\n",
       "      <td>NaN</td>\n",
       "      <td>Rd2</td>\n",
       "    </tr>\n",
       "    <tr>\n",
       "      <th>2</th>\n",
       "      <td>9157712</td>\n",
       "      <td>mo0</td>\n",
       "      <td>1</td>\n",
       "      <td>1425657937</td>\n",
       "      <td>2015-03-06 16:05:37+00:00</td>\n",
       "      <td>Show HN: Discover what songs were used in YouT...</td>\n",
       "      <td>http://www.mooma.sh/</td>\n",
       "      <td>The user can paste a media url(currently only ...</td>\n",
       "      <td>None</td>\n",
       "      <td>True</td>\n",
       "      <td>NaN</td>\n",
       "      <td>mo0</td>\n",
       "    </tr>\n",
       "    <tr>\n",
       "      <th>3</th>\n",
       "      <td>8127403</td>\n",
       "      <td>ad11</td>\n",
       "      <td>1</td>\n",
       "      <td>1407052667</td>\n",
       "      <td>2014-08-03 07:57:47+00:00</td>\n",
       "      <td>My poker project, what do you think?</td>\n",
       "      <td></td>\n",
       "      <td>Hi guys, what do you think about my poker proj...</td>\n",
       "      <td>None</td>\n",
       "      <td>True</td>\n",
       "      <td>NaN</td>\n",
       "      <td>ad11</td>\n",
       "    </tr>\n",
       "    <tr>\n",
       "      <th>4</th>\n",
       "      <td>6933158</td>\n",
       "      <td>emyy</td>\n",
       "      <td>1</td>\n",
       "      <td>1387432701</td>\n",
       "      <td>2013-12-19 05:58:21+00:00</td>\n",
       "      <td>Christmas Crafts Ideas - Easy and Simple Famil...</td>\n",
       "      <td>http://www.winxdvd.com/resource/christmas-craf...</td>\n",
       "      <td>There are some free Christmas craft ideas to m...</td>\n",
       "      <td>None</td>\n",
       "      <td>True</td>\n",
       "      <td>NaN</td>\n",
       "      <td>emyy</td>\n",
       "    </tr>\n",
       "  </tbody>\n",
       "</table>\n",
       "</div>"
      ],
      "text/plain": [
       "        id      by  score        time                   time_ts  \\\n",
       "0  6988445  cflick      0  1388454902 2013-12-31 01:55:02+00:00   \n",
       "1  7047571     Rd2      1  1389562985 2014-01-12 21:43:05+00:00   \n",
       "2  9157712     mo0      1  1425657937 2015-03-06 16:05:37+00:00   \n",
       "3  8127403    ad11      1  1407052667 2014-08-03 07:57:47+00:00   \n",
       "4  6933158    emyy      1  1387432701 2013-12-19 05:58:21+00:00   \n",
       "\n",
       "                                               title  \\\n",
       "0                                           Appshare   \n",
       "1                                   Java in startups   \n",
       "2  Show HN: Discover what songs were used in YouT...   \n",
       "3               My poker project, what do you think?   \n",
       "4  Christmas Crafts Ideas - Easy and Simple Famil...   \n",
       "\n",
       "                                                 url  \\\n",
       "0                  http://chadflick.ws/appshare.html   \n",
       "1                                                      \n",
       "2                               http://www.mooma.sh/   \n",
       "3                                                      \n",
       "4  http://www.winxdvd.com/resource/christmas-craf...   \n",
       "\n",
       "                                                text deleted  dead  \\\n",
       "0      Did facebook or angrybirds pay you?  We will!    None  True   \n",
       "1  Hello, hacker news!<p>Have any of you used jav...    None  True   \n",
       "2  The user can paste a media url(currently only ...    None  True   \n",
       "3  Hi guys, what do you think about my poker proj...    None  True   \n",
       "4  There are some free Christmas craft ideas to m...    None  True   \n",
       "\n",
       "   descendants  author  \n",
       "0          NaN  cflick  \n",
       "1          NaN     Rd2  \n",
       "2          NaN     mo0  \n",
       "3          NaN    ad11  \n",
       "4          NaN    emyy  "
      ]
     },
     "execution_count": 2,
     "metadata": {},
     "output_type": "execute_result"
    }
   ],
   "source": [
    "# Construct a reference to the \"stories\" table\n",
    "table_ref = dataset_ref.table(\"stories\")\n",
    "\n",
    "# API request - fetch the table\n",
    "table = client.get_table(table_ref)\n",
    "\n",
    "# Preview the first five lines of the table\n",
    "client.list_rows(table, max_results=5).to_dataframe()"
   ]
  },
  {
   "cell_type": "markdown",
   "id": "2ec4887c",
   "metadata": {
    "papermill": {
     "duration": 0.004126,
     "end_time": "2022-12-14T21:19:40.920029",
     "exception": false,
     "start_time": "2022-12-14T21:19:40.915903",
     "status": "completed"
    },
    "tags": []
   },
   "source": [
    "Since you are already familiar with **JOINs** from the [Intro to SQL micro-course](https://www.kaggle.com/learn/intro-to-sql), we'll work with a relatively complex example of a JOIN that uses a [common table expression (CTE)](https://www.kaggle.com/dansbecker/as-with).\n",
    "\n",
    "The query below pulls information from the `stories` and `comments` tables to create a table showing all stories posted on January 1, 2012, along with the corresponding number of comments.  We use a **LEFT JOIN** so that the results include stories that didn't receive any comments."
   ]
  },
  {
   "cell_type": "code",
   "execution_count": 3,
   "id": "aa770faa",
   "metadata": {
    "execution": {
     "iopub.execute_input": "2022-12-14T21:19:40.930914Z",
     "iopub.status.busy": "2022-12-14T21:19:40.930156Z",
     "iopub.status.idle": "2022-12-14T21:19:44.533083Z",
     "shell.execute_reply": "2022-12-14T21:19:44.531834Z"
    },
    "papermill": {
     "duration": 3.611,
     "end_time": "2022-12-14T21:19:44.535522",
     "exception": false,
     "start_time": "2022-12-14T21:19:40.924522",
     "status": "completed"
    },
    "tags": []
   },
   "outputs": [
    {
     "name": "stderr",
     "output_type": "stream",
     "text": [
      "/opt/conda/lib/python3.7/site-packages/google/cloud/bigquery/client.py:440: UserWarning: Cannot create BigQuery Storage client, the dependency google-cloud-bigquery-storage is not installed.\n",
      "  \"Cannot create BigQuery Storage client, the dependency \"\n"
     ]
    },
    {
     "data": {
      "text/html": [
       "<div>\n",
       "<style scoped>\n",
       "    .dataframe tbody tr th:only-of-type {\n",
       "        vertical-align: middle;\n",
       "    }\n",
       "\n",
       "    .dataframe tbody tr th {\n",
       "        vertical-align: top;\n",
       "    }\n",
       "\n",
       "    .dataframe thead th {\n",
       "        text-align: right;\n",
       "    }\n",
       "</style>\n",
       "<table border=\"1\" class=\"dataframe\">\n",
       "  <thead>\n",
       "    <tr style=\"text-align: right;\">\n",
       "      <th></th>\n",
       "      <th>story_id</th>\n",
       "      <th>by</th>\n",
       "      <th>title</th>\n",
       "      <th>num_comments</th>\n",
       "    </tr>\n",
       "  </thead>\n",
       "  <tbody>\n",
       "    <tr>\n",
       "      <th>0</th>\n",
       "      <td>3412900</td>\n",
       "      <td>whoishiring</td>\n",
       "      <td>Ask HN: Who is Hiring? (January 2012)</td>\n",
       "      <td>154.0</td>\n",
       "    </tr>\n",
       "    <tr>\n",
       "      <th>1</th>\n",
       "      <td>3412901</td>\n",
       "      <td>whoishiring</td>\n",
       "      <td>Ask HN: Freelancer? Seeking freelancer? (Janua...</td>\n",
       "      <td>97.0</td>\n",
       "    </tr>\n",
       "    <tr>\n",
       "      <th>2</th>\n",
       "      <td>3412643</td>\n",
       "      <td>jemeshsu</td>\n",
       "      <td>Avoid Apress</td>\n",
       "      <td>30.0</td>\n",
       "    </tr>\n",
       "    <tr>\n",
       "      <th>3</th>\n",
       "      <td>3412891</td>\n",
       "      <td>Brajeshwar</td>\n",
       "      <td>There's no shame in code that is simply \"good ...</td>\n",
       "      <td>27.0</td>\n",
       "    </tr>\n",
       "    <tr>\n",
       "      <th>4</th>\n",
       "      <td>3414012</td>\n",
       "      <td>ramanujam</td>\n",
       "      <td>Impress.js - a Prezi like implementation using...</td>\n",
       "      <td>27.0</td>\n",
       "    </tr>\n",
       "  </tbody>\n",
       "</table>\n",
       "</div>"
      ],
      "text/plain": [
       "   story_id           by                                              title  \\\n",
       "0   3412900  whoishiring              Ask HN: Who is Hiring? (January 2012)   \n",
       "1   3412901  whoishiring  Ask HN: Freelancer? Seeking freelancer? (Janua...   \n",
       "2   3412643     jemeshsu                                       Avoid Apress   \n",
       "3   3412891   Brajeshwar  There's no shame in code that is simply \"good ...   \n",
       "4   3414012    ramanujam  Impress.js - a Prezi like implementation using...   \n",
       "\n",
       "   num_comments  \n",
       "0         154.0  \n",
       "1          97.0  \n",
       "2          30.0  \n",
       "3          27.0  \n",
       "4          27.0  "
      ]
     },
     "execution_count": 3,
     "metadata": {},
     "output_type": "execute_result"
    }
   ],
   "source": [
    "# Query to select all stories posted on January 1, 2012, with number of comments\n",
    "join_query = \"\"\"\n",
    "             WITH c AS\n",
    "             (\n",
    "             SELECT parent, COUNT(*) as num_comments\n",
    "             FROM `bigquery-public-data.hacker_news.comments` \n",
    "             GROUP BY parent\n",
    "             )\n",
    "             SELECT s.id as story_id, s.by, s.title, c.num_comments\n",
    "             FROM `bigquery-public-data.hacker_news.stories` AS s\n",
    "             LEFT JOIN c\n",
    "             ON s.id = c.parent\n",
    "             WHERE EXTRACT(DATE FROM s.time_ts) = '2012-01-01'\n",
    "             ORDER BY c.num_comments DESC\n",
    "             \"\"\"\n",
    "\n",
    "# Run the query, and return a pandas DataFrame\n",
    "join_result = client.query(join_query).result().to_dataframe()\n",
    "join_result.head()"
   ]
  },
  {
   "cell_type": "markdown",
   "id": "8cc43001",
   "metadata": {
    "papermill": {
     "duration": 0.0043,
     "end_time": "2022-12-14T21:19:44.544624",
     "exception": false,
     "start_time": "2022-12-14T21:19:44.540324",
     "status": "completed"
    },
    "tags": []
   },
   "source": [
    "Since the results are ordered by the `num_comments` column, stories without comments appear at the end of the DataFrame.  (Remember that **NaN** stands for \"not a number\".)"
   ]
  },
  {
   "cell_type": "code",
   "execution_count": 4,
   "id": "348db83c",
   "metadata": {
    "execution": {
     "iopub.execute_input": "2022-12-14T21:19:44.555453Z",
     "iopub.status.busy": "2022-12-14T21:19:44.555035Z",
     "iopub.status.idle": "2022-12-14T21:19:44.566925Z",
     "shell.execute_reply": "2022-12-14T21:19:44.565857Z"
    },
    "papermill": {
     "duration": 0.020109,
     "end_time": "2022-12-14T21:19:44.569211",
     "exception": false,
     "start_time": "2022-12-14T21:19:44.549102",
     "status": "completed"
    },
    "tags": []
   },
   "outputs": [
    {
     "data": {
      "text/html": [
       "<div>\n",
       "<style scoped>\n",
       "    .dataframe tbody tr th:only-of-type {\n",
       "        vertical-align: middle;\n",
       "    }\n",
       "\n",
       "    .dataframe tbody tr th {\n",
       "        vertical-align: top;\n",
       "    }\n",
       "\n",
       "    .dataframe thead th {\n",
       "        text-align: right;\n",
       "    }\n",
       "</style>\n",
       "<table border=\"1\" class=\"dataframe\">\n",
       "  <thead>\n",
       "    <tr style=\"text-align: right;\">\n",
       "      <th></th>\n",
       "      <th>story_id</th>\n",
       "      <th>by</th>\n",
       "      <th>title</th>\n",
       "      <th>num_comments</th>\n",
       "    </tr>\n",
       "  </thead>\n",
       "  <tbody>\n",
       "    <tr>\n",
       "      <th>439</th>\n",
       "      <td>3413296</td>\n",
       "      <td>cjstewart88</td>\n",
       "      <td>Dec 2011, A Pretty Amazing Month for Tubalr… W...</td>\n",
       "      <td>NaN</td>\n",
       "    </tr>\n",
       "    <tr>\n",
       "      <th>440</th>\n",
       "      <td>3412846</td>\n",
       "      <td>jaaminul69</td>\n",
       "      <td>The year 2011 is fully for Kate Middeton.</td>\n",
       "      <td>NaN</td>\n",
       "    </tr>\n",
       "    <tr>\n",
       "      <th>441</th>\n",
       "      <td>3412768</td>\n",
       "      <td>FluidDjango</td>\n",
       "      <td>'A Big Relief': NASA Probe Enters Lunar Orbit</td>\n",
       "      <td>NaN</td>\n",
       "    </tr>\n",
       "    <tr>\n",
       "      <th>442</th>\n",
       "      <td>3412625</td>\n",
       "      <td>mark2012</td>\n",
       "      <td>Top Aphrodisiacs Found in Male Enhancement Sup...</td>\n",
       "      <td>NaN</td>\n",
       "    </tr>\n",
       "    <tr>\n",
       "      <th>443</th>\n",
       "      <td>3412949</td>\n",
       "      <td>None</td>\n",
       "      <td>None</td>\n",
       "      <td>NaN</td>\n",
       "    </tr>\n",
       "  </tbody>\n",
       "</table>\n",
       "</div>"
      ],
      "text/plain": [
       "     story_id           by                                              title  \\\n",
       "439   3413296  cjstewart88  Dec 2011, A Pretty Amazing Month for Tubalr… W...   \n",
       "440   3412846   jaaminul69          The year 2011 is fully for Kate Middeton.   \n",
       "441   3412768  FluidDjango      'A Big Relief': NASA Probe Enters Lunar Orbit   \n",
       "442   3412625     mark2012  Top Aphrodisiacs Found in Male Enhancement Sup...   \n",
       "443   3412949         None                                               None   \n",
       "\n",
       "     num_comments  \n",
       "439           NaN  \n",
       "440           NaN  \n",
       "441           NaN  \n",
       "442           NaN  \n",
       "443           NaN  "
      ]
     },
     "execution_count": 4,
     "metadata": {},
     "output_type": "execute_result"
    }
   ],
   "source": [
    "# None of these stories received any comments\n",
    "join_result.tail()"
   ]
  },
  {
   "cell_type": "markdown",
   "id": "f5cf3366",
   "metadata": {
    "papermill": {
     "duration": 0.004754,
     "end_time": "2022-12-14T21:19:44.579261",
     "exception": false,
     "start_time": "2022-12-14T21:19:44.574507",
     "status": "completed"
    },
    "tags": []
   },
   "source": [
    "Next, we write a query to select all usernames corresponding to users who wrote stories or comments on January 1, 2014.  We use **UNION DISTINCT** (instead of **UNION ALL**) to ensure that each user appears in the table at most once."
   ]
  },
  {
   "cell_type": "code",
   "execution_count": 5,
   "id": "16d6538b",
   "metadata": {
    "execution": {
     "iopub.execute_input": "2022-12-14T21:19:44.591105Z",
     "iopub.status.busy": "2022-12-14T21:19:44.590603Z",
     "iopub.status.idle": "2022-12-14T21:19:46.769433Z",
     "shell.execute_reply": "2022-12-14T21:19:46.768005Z"
    },
    "papermill": {
     "duration": 2.188144,
     "end_time": "2022-12-14T21:19:46.772323",
     "exception": false,
     "start_time": "2022-12-14T21:19:44.584179",
     "status": "completed"
    },
    "tags": []
   },
   "outputs": [
    {
     "name": "stderr",
     "output_type": "stream",
     "text": [
      "/opt/conda/lib/python3.7/site-packages/google/cloud/bigquery/client.py:440: UserWarning: Cannot create BigQuery Storage client, the dependency google-cloud-bigquery-storage is not installed.\n",
      "  \"Cannot create BigQuery Storage client, the dependency \"\n"
     ]
    },
    {
     "data": {
      "text/html": [
       "<div>\n",
       "<style scoped>\n",
       "    .dataframe tbody tr th:only-of-type {\n",
       "        vertical-align: middle;\n",
       "    }\n",
       "\n",
       "    .dataframe tbody tr th {\n",
       "        vertical-align: top;\n",
       "    }\n",
       "\n",
       "    .dataframe thead th {\n",
       "        text-align: right;\n",
       "    }\n",
       "</style>\n",
       "<table border=\"1\" class=\"dataframe\">\n",
       "  <thead>\n",
       "    <tr style=\"text-align: right;\">\n",
       "      <th></th>\n",
       "      <th>by</th>\n",
       "    </tr>\n",
       "  </thead>\n",
       "  <tbody>\n",
       "    <tr>\n",
       "      <th>0</th>\n",
       "      <td>jeassonlens</td>\n",
       "    </tr>\n",
       "    <tr>\n",
       "      <th>1</th>\n",
       "      <td>dud5</td>\n",
       "    </tr>\n",
       "    <tr>\n",
       "      <th>2</th>\n",
       "      <td>luu</td>\n",
       "    </tr>\n",
       "    <tr>\n",
       "      <th>3</th>\n",
       "      <td>issaria</td>\n",
       "    </tr>\n",
       "    <tr>\n",
       "      <th>4</th>\n",
       "      <td>wrongc0ntinent</td>\n",
       "    </tr>\n",
       "  </tbody>\n",
       "</table>\n",
       "</div>"
      ],
      "text/plain": [
       "               by\n",
       "0     jeassonlens\n",
       "1            dud5\n",
       "2             luu\n",
       "3         issaria\n",
       "4  wrongc0ntinent"
      ]
     },
     "execution_count": 5,
     "metadata": {},
     "output_type": "execute_result"
    }
   ],
   "source": [
    "# Query to select all users who posted stories or comments on January 1, 2014\n",
    "union_query = \"\"\"\n",
    "              SELECT c.by\n",
    "              FROM `bigquery-public-data.hacker_news.comments` AS c\n",
    "              WHERE EXTRACT(DATE FROM c.time_ts) = '2014-01-01'\n",
    "              UNION DISTINCT\n",
    "              SELECT s.by\n",
    "              FROM `bigquery-public-data.hacker_news.stories` AS s\n",
    "              WHERE EXTRACT(DATE FROM s.time_ts) = '2014-01-01'\n",
    "              \"\"\"\n",
    "\n",
    "# Run the query, and return a pandas DataFrame\n",
    "union_result = client.query(union_query).result().to_dataframe()\n",
    "union_result.head()"
   ]
  },
  {
   "cell_type": "markdown",
   "id": "0583e71c",
   "metadata": {
    "papermill": {
     "duration": 0.005047,
     "end_time": "2022-12-14T21:19:46.782890",
     "exception": false,
     "start_time": "2022-12-14T21:19:46.777843",
     "status": "completed"
    },
    "tags": []
   },
   "source": [
    "To get the number of users who posted on January 1, 2014, we need only take the length of the DataFrame."
   ]
  },
  {
   "cell_type": "code",
   "execution_count": 6,
   "id": "01710816",
   "metadata": {
    "execution": {
     "iopub.execute_input": "2022-12-14T21:19:46.795467Z",
     "iopub.status.busy": "2022-12-14T21:19:46.795078Z",
     "iopub.status.idle": "2022-12-14T21:19:46.802254Z",
     "shell.execute_reply": "2022-12-14T21:19:46.800944Z"
    },
    "papermill": {
     "duration": 0.016753,
     "end_time": "2022-12-14T21:19:46.805028",
     "exception": false,
     "start_time": "2022-12-14T21:19:46.788275",
     "status": "completed"
    },
    "tags": []
   },
   "outputs": [
    {
     "data": {
      "text/plain": [
       "2282"
      ]
     },
     "execution_count": 6,
     "metadata": {},
     "output_type": "execute_result"
    }
   ],
   "source": [
    "# Number of users who posted stories or comments on January 1, 2014\n",
    "len(union_result)"
   ]
  },
  {
   "cell_type": "markdown",
   "id": "5a23f43a",
   "metadata": {
    "papermill": {
     "duration": 0.00515,
     "end_time": "2022-12-14T21:19:46.815800",
     "exception": false,
     "start_time": "2022-12-14T21:19:46.810650",
     "status": "completed"
    },
    "tags": []
   },
   "source": [
    "# Your turn \n",
    "\n",
    "Use what you've learned to **[pull information from multiple tables](https://www.kaggle.com/kernels/fork/5045818)**."
   ]
  },
  {
   "cell_type": "markdown",
   "id": "c1f1b53b",
   "metadata": {
    "papermill": {
     "duration": 0.00505,
     "end_time": "2022-12-14T21:19:46.826224",
     "exception": false,
     "start_time": "2022-12-14T21:19:46.821174",
     "status": "completed"
    },
    "tags": []
   },
   "source": [
    "---\n",
    "\n",
    "\n",
    "\n",
    "\n",
    "*Have questions or comments? Visit the [course discussion forum](https://www.kaggle.com/learn/advanced-sql/discussion) to chat with other learners.*"
   ]
  }
 ],
 "metadata": {
  "kernelspec": {
   "display_name": "Python 3",
   "language": "python",
   "name": "python3"
  },
  "language_info": {
   "codemirror_mode": {
    "name": "ipython",
    "version": 3
   },
   "file_extension": ".py",
   "mimetype": "text/x-python",
   "name": "python",
   "nbconvert_exporter": "python",
   "pygments_lexer": "ipython3",
   "version": "3.7.12"
  },
  "papermill": {
   "default_parameters": {},
   "duration": 18.505429,
   "end_time": "2022-12-14T21:19:47.453197",
   "environment_variables": {},
   "exception": null,
   "input_path": "__notebook__.ipynb",
   "output_path": "__notebook__.ipynb",
   "parameters": {},
   "start_time": "2022-12-14T21:19:28.947768",
   "version": "2.3.4"
  }
 },
 "nbformat": 4,
 "nbformat_minor": 5
}
