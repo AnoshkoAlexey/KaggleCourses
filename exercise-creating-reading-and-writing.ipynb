{
 "cells": [
  {
   "cell_type": "markdown",
   "id": "ddf28ef0",
   "metadata": {
    "papermill": {
     "duration": 0.006164,
     "end_time": "2022-12-06T23:24:24.260016",
     "exception": false,
     "start_time": "2022-12-06T23:24:24.253852",
     "status": "completed"
    },
    "tags": []
   },
   "source": [
    "**This notebook is an exercise in the [Pandas](https://www.kaggle.com/learn/pandas) course.  You can reference the tutorial at [this link](https://www.kaggle.com/residentmario/creating-reading-and-writing).**\n",
    "\n",
    "---\n"
   ]
  },
  {
   "cell_type": "markdown",
   "id": "a5e4902d",
   "metadata": {
    "papermill": {
     "duration": 0.00401,
     "end_time": "2022-12-06T23:24:24.268449",
     "exception": false,
     "start_time": "2022-12-06T23:24:24.264439",
     "status": "completed"
    },
    "tags": []
   },
   "source": [
    "# Introduction\n",
    "\n",
    "The first step in most data analytics projects is reading the data file. In this exercise, you'll create Series and DataFrame objects, both by hand and by reading data files.\n",
    "\n",
    "Run the code cell below to load libraries you will need (including code to check your answers)."
   ]
  },
  {
   "cell_type": "code",
   "execution_count": 1,
   "id": "781279a4",
   "metadata": {
    "execution": {
     "iopub.execute_input": "2022-12-06T23:24:24.280108Z",
     "iopub.status.busy": "2022-12-06T23:24:24.279228Z",
     "iopub.status.idle": "2022-12-06T23:24:25.826039Z",
     "shell.execute_reply": "2022-12-06T23:24:25.824927Z"
    },
    "papermill": {
     "duration": 1.556959,
     "end_time": "2022-12-06T23:24:25.829364",
     "exception": false,
     "start_time": "2022-12-06T23:24:24.272405",
     "status": "completed"
    },
    "tags": []
   },
   "outputs": [
    {
     "name": "stdout",
     "output_type": "stream",
     "text": [
      "Setup complete.\n"
     ]
    }
   ],
   "source": [
    "import pandas as pd\n",
    "pd.set_option('max_rows', 5)\n",
    "from learntools.core import binder; binder.bind(globals())\n",
    "from learntools.pandas.creating_reading_and_writing import *\n",
    "print(\"Setup complete.\")"
   ]
  },
  {
   "cell_type": "markdown",
   "id": "6b8c1ccf",
   "metadata": {
    "papermill": {
     "duration": 0.004702,
     "end_time": "2022-12-06T23:24:25.840381",
     "exception": false,
     "start_time": "2022-12-06T23:24:25.835679",
     "status": "completed"
    },
    "tags": []
   },
   "source": [
    "# Exercises"
   ]
  },
  {
   "cell_type": "markdown",
   "id": "c6717588",
   "metadata": {
    "papermill": {
     "duration": 0.004098,
     "end_time": "2022-12-06T23:24:25.849112",
     "exception": false,
     "start_time": "2022-12-06T23:24:25.845014",
     "status": "completed"
    },
    "tags": []
   },
   "source": [
    "## 1.\n",
    "\n",
    "In the cell below, create a DataFrame `fruits` that looks like this:\n",
    "\n",
    "![](https://i.imgur.com/Ax3pp2A.png)"
   ]
  },
  {
   "cell_type": "code",
   "execution_count": 2,
   "id": "84478289",
   "metadata": {
    "execution": {
     "iopub.execute_input": "2022-12-06T23:24:25.859606Z",
     "iopub.status.busy": "2022-12-06T23:24:25.859169Z",
     "iopub.status.idle": "2022-12-06T23:24:25.879716Z",
     "shell.execute_reply": "2022-12-06T23:24:25.878778Z"
    },
    "papermill": {
     "duration": 0.028823,
     "end_time": "2022-12-06T23:24:25.882403",
     "exception": false,
     "start_time": "2022-12-06T23:24:25.853580",
     "status": "completed"
    },
    "tags": []
   },
   "outputs": [
    {
     "data": {
      "application/javascript": [
       "parent.postMessage({\"jupyterEvent\": \"custom.exercise_interaction\", \"data\": {\"outcomeType\": 1, \"valueTowardsCompletion\": 0.16666666666666666, \"interactionType\": 1, \"questionType\": 1, \"questionId\": \"1_FruitDfCreation\", \"learnToolsVersion\": \"0.3.4\", \"failureMessage\": \"\", \"exceptionClass\": \"\", \"trace\": \"\"}}, \"*\")"
      ],
      "text/plain": [
       "<IPython.core.display.Javascript object>"
      ]
     },
     "metadata": {},
     "output_type": "display_data"
    },
    {
     "data": {
      "text/markdown": [
       "<span style=\"color:#33cc33\">Correct</span>"
      ],
      "text/plain": [
       "Correct"
      ]
     },
     "metadata": {},
     "output_type": "display_data"
    },
    {
     "data": {
      "text/html": [
       "<div>\n",
       "<style scoped>\n",
       "    .dataframe tbody tr th:only-of-type {\n",
       "        vertical-align: middle;\n",
       "    }\n",
       "\n",
       "    .dataframe tbody tr th {\n",
       "        vertical-align: top;\n",
       "    }\n",
       "\n",
       "    .dataframe thead th {\n",
       "        text-align: right;\n",
       "    }\n",
       "</style>\n",
       "<table border=\"1\" class=\"dataframe\">\n",
       "  <thead>\n",
       "    <tr style=\"text-align: right;\">\n",
       "      <th></th>\n",
       "      <th>Apples</th>\n",
       "      <th>Bananas</th>\n",
       "    </tr>\n",
       "  </thead>\n",
       "  <tbody>\n",
       "    <tr>\n",
       "      <th>0</th>\n",
       "      <td>30</td>\n",
       "      <td>21</td>\n",
       "    </tr>\n",
       "  </tbody>\n",
       "</table>\n",
       "</div>"
      ],
      "text/plain": [
       "   Apples  Bananas\n",
       "0      30       21"
      ]
     },
     "execution_count": 2,
     "metadata": {},
     "output_type": "execute_result"
    }
   ],
   "source": [
    "# Your code goes here. Create a dataframe matching the above diagram and assign it to the variable fruits.\n",
    "fruits = pd.DataFrame({'Apples': [30], 'Bananas': [21]})\n",
    "\n",
    "# Check your answer\n",
    "q1.check()\n",
    "fruits"
   ]
  },
  {
   "cell_type": "code",
   "execution_count": 3,
   "id": "8bbcac63",
   "metadata": {
    "execution": {
     "iopub.execute_input": "2022-12-06T23:24:25.893620Z",
     "iopub.status.busy": "2022-12-06T23:24:25.893283Z",
     "iopub.status.idle": "2022-12-06T23:24:25.898605Z",
     "shell.execute_reply": "2022-12-06T23:24:25.897789Z"
    },
    "papermill": {
     "duration": 0.013267,
     "end_time": "2022-12-06T23:24:25.900595",
     "exception": false,
     "start_time": "2022-12-06T23:24:25.887328",
     "status": "completed"
    },
    "tags": []
   },
   "outputs": [],
   "source": [
    "#q1.hint()\n",
    "#q1.solution()"
   ]
  },
  {
   "cell_type": "markdown",
   "id": "166f6e12",
   "metadata": {
    "papermill": {
     "duration": 0.004651,
     "end_time": "2022-12-06T23:24:25.910283",
     "exception": false,
     "start_time": "2022-12-06T23:24:25.905632",
     "status": "completed"
    },
    "tags": []
   },
   "source": [
    "## 2.\n",
    "\n",
    "Create a dataframe `fruit_sales` that matches the diagram below:\n",
    "\n",
    "![](https://i.imgur.com/CHPn7ZF.png)"
   ]
  },
  {
   "cell_type": "code",
   "execution_count": 4,
   "id": "0515791e",
   "metadata": {
    "execution": {
     "iopub.execute_input": "2022-12-06T23:24:25.922585Z",
     "iopub.status.busy": "2022-12-06T23:24:25.922219Z",
     "iopub.status.idle": "2022-12-06T23:24:25.932395Z",
     "shell.execute_reply": "2022-12-06T23:24:25.931512Z"
    },
    "papermill": {
     "duration": 0.019476,
     "end_time": "2022-12-06T23:24:25.934494",
     "exception": false,
     "start_time": "2022-12-06T23:24:25.915018",
     "status": "completed"
    },
    "tags": []
   },
   "outputs": [
    {
     "data": {
      "application/javascript": [
       "parent.postMessage({\"jupyterEvent\": \"custom.exercise_interaction\", \"data\": {\"outcomeType\": 4, \"interactionType\": 1, \"questionType\": 1, \"questionId\": \"2_FruitSalesDfCreation\", \"learnToolsVersion\": \"0.3.4\", \"valueTowardsCompletion\": 0.0, \"failureMessage\": \"\", \"exceptionClass\": \"\", \"trace\": \"\"}}, \"*\")"
      ],
      "text/plain": [
       "<IPython.core.display.Javascript object>"
      ]
     },
     "metadata": {},
     "output_type": "display_data"
    },
    {
     "data": {
      "text/markdown": [
       "<span style=\"color:#ccaa33\">Check:</span> When you've updated the starter code, `check()` will tell you whether your code is correct. You need to update the code that creates variable `fruit_sales`"
      ],
      "text/plain": [
       "Check: When you've updated the starter code, `check()` will tell you whether your code is correct. You need to update the code that creates variable `fruit_sales`"
      ]
     },
     "metadata": {},
     "output_type": "display_data"
    },
    {
     "data": {
      "text/markdown": [],
      "text/plain": [
       "<learntools.core.constants.PlaceholderValue at 0x7f5f79eab650>"
      ]
     },
     "execution_count": 4,
     "metadata": {},
     "output_type": "execute_result"
    }
   ],
   "source": [
    "# Your code goes here. Create a dataframe matching the above diagram and assign it to the variable fruit_sales.\n",
    "fruit_sales = ____\n",
    "\n",
    "# Check your answer\n",
    "q2.check()\n",
    "fruit_sales"
   ]
  },
  {
   "cell_type": "code",
   "execution_count": 5,
   "id": "8f9bb97f",
   "metadata": {
    "execution": {
     "iopub.execute_input": "2022-12-06T23:24:25.946883Z",
     "iopub.status.busy": "2022-12-06T23:24:25.945953Z",
     "iopub.status.idle": "2022-12-06T23:24:25.950698Z",
     "shell.execute_reply": "2022-12-06T23:24:25.949719Z"
    },
    "papermill": {
     "duration": 0.012981,
     "end_time": "2022-12-06T23:24:25.952792",
     "exception": false,
     "start_time": "2022-12-06T23:24:25.939811",
     "status": "completed"
    },
    "tags": []
   },
   "outputs": [],
   "source": [
    "#q2.hint()\n",
    "#q2.solution()"
   ]
  },
  {
   "cell_type": "markdown",
   "id": "7b68c9f9",
   "metadata": {
    "papermill": {
     "duration": 0.005228,
     "end_time": "2022-12-06T23:24:25.963609",
     "exception": false,
     "start_time": "2022-12-06T23:24:25.958381",
     "status": "completed"
    },
    "tags": []
   },
   "source": [
    "## 3.\n",
    "\n",
    "Create a variable `ingredients` with a Series that looks like:\n",
    "\n",
    "```\n",
    "Flour     4 cups\n",
    "Milk       1 cup\n",
    "Eggs     2 large\n",
    "Spam       1 can\n",
    "Name: Dinner, dtype: object\n",
    "```"
   ]
  },
  {
   "cell_type": "code",
   "execution_count": 6,
   "id": "cefd2537",
   "metadata": {
    "execution": {
     "iopub.execute_input": "2022-12-06T23:24:25.976615Z",
     "iopub.status.busy": "2022-12-06T23:24:25.975539Z",
     "iopub.status.idle": "2022-12-06T23:24:25.984437Z",
     "shell.execute_reply": "2022-12-06T23:24:25.983725Z"
    },
    "papermill": {
     "duration": 0.017451,
     "end_time": "2022-12-06T23:24:25.986470",
     "exception": false,
     "start_time": "2022-12-06T23:24:25.969019",
     "status": "completed"
    },
    "tags": []
   },
   "outputs": [
    {
     "data": {
      "application/javascript": [
       "parent.postMessage({\"jupyterEvent\": \"custom.exercise_interaction\", \"data\": {\"outcomeType\": 4, \"interactionType\": 1, \"questionType\": 2, \"questionId\": \"3_RecipeSeriesCreation\", \"learnToolsVersion\": \"0.3.4\", \"valueTowardsCompletion\": 0.0, \"failureMessage\": \"\", \"exceptionClass\": \"\", \"trace\": \"\"}}, \"*\")"
      ],
      "text/plain": [
       "<IPython.core.display.Javascript object>"
      ]
     },
     "metadata": {},
     "output_type": "display_data"
    },
    {
     "data": {
      "text/markdown": [
       "<span style=\"color:#ccaa33\">Check:</span> When you've updated the starter code, `check()` will tell you whether your code is correct. You need to update the code that creates variable `ingredients`"
      ],
      "text/plain": [
       "Check: When you've updated the starter code, `check()` will tell you whether your code is correct. You need to update the code that creates variable `ingredients`"
      ]
     },
     "metadata": {},
     "output_type": "display_data"
    },
    {
     "data": {
      "text/markdown": [],
      "text/plain": [
       "<learntools.core.constants.PlaceholderValue at 0x7f5f79eab650>"
      ]
     },
     "execution_count": 6,
     "metadata": {},
     "output_type": "execute_result"
    }
   ],
   "source": [
    "ingredients = ____\n",
    "\n",
    "# Check your answer\n",
    "q3.check()\n",
    "ingredients"
   ]
  },
  {
   "cell_type": "code",
   "execution_count": 7,
   "id": "d6c1bc4d",
   "metadata": {
    "execution": {
     "iopub.execute_input": "2022-12-06T23:24:25.999451Z",
     "iopub.status.busy": "2022-12-06T23:24:25.999087Z",
     "iopub.status.idle": "2022-12-06T23:24:26.003352Z",
     "shell.execute_reply": "2022-12-06T23:24:26.002310Z"
    },
    "papermill": {
     "duration": 0.013271,
     "end_time": "2022-12-06T23:24:26.005453",
     "exception": false,
     "start_time": "2022-12-06T23:24:25.992182",
     "status": "completed"
    },
    "tags": []
   },
   "outputs": [],
   "source": [
    "#q3.hint()\n",
    "#q3.solution()"
   ]
  },
  {
   "cell_type": "markdown",
   "id": "50b6021a",
   "metadata": {
    "papermill": {
     "duration": 0.00564,
     "end_time": "2022-12-06T23:24:26.016801",
     "exception": false,
     "start_time": "2022-12-06T23:24:26.011161",
     "status": "completed"
    },
    "tags": []
   },
   "source": [
    "## 4.\n",
    "\n",
    "Read the following csv dataset of wine reviews into a DataFrame called `reviews`:\n",
    "\n",
    "![](https://i.imgur.com/74RCZtU.png)\n",
    "\n",
    "The filepath to the csv file is `../input/wine-reviews/winemag-data_first150k.csv`. The first few lines look like:\n",
    "\n",
    "```\n",
    ",country,description,designation,points,price,province,region_1,region_2,variety,winery\n",
    "0,US,\"This tremendous 100% varietal wine[...]\",Martha's Vineyard,96,235.0,California,Napa Valley,Napa,Cabernet Sauvignon,Heitz\n",
    "1,Spain,\"Ripe aromas of fig, blackberry and[...]\",Carodorum Selección Especial Reserva,96,110.0,Northern Spain,Toro,,Tinta de Toro,Bodega Carmen Rodríguez\n",
    "```"
   ]
  },
  {
   "cell_type": "code",
   "execution_count": 8,
   "id": "cd97f984",
   "metadata": {
    "execution": {
     "iopub.execute_input": "2022-12-06T23:24:26.030620Z",
     "iopub.status.busy": "2022-12-06T23:24:26.029556Z",
     "iopub.status.idle": "2022-12-06T23:24:26.039399Z",
     "shell.execute_reply": "2022-12-06T23:24:26.038391Z"
    },
    "papermill": {
     "duration": 0.018651,
     "end_time": "2022-12-06T23:24:26.041288",
     "exception": false,
     "start_time": "2022-12-06T23:24:26.022637",
     "status": "completed"
    },
    "tags": []
   },
   "outputs": [
    {
     "data": {
      "application/javascript": [
       "parent.postMessage({\"jupyterEvent\": \"custom.exercise_interaction\", \"data\": {\"outcomeType\": 4, \"interactionType\": 1, \"questionType\": 1, \"questionId\": \"4_ReadWineCsv\", \"learnToolsVersion\": \"0.3.4\", \"valueTowardsCompletion\": 0.0, \"failureMessage\": \"\", \"exceptionClass\": \"\", \"trace\": \"\"}}, \"*\")"
      ],
      "text/plain": [
       "<IPython.core.display.Javascript object>"
      ]
     },
     "metadata": {},
     "output_type": "display_data"
    },
    {
     "data": {
      "text/markdown": [
       "<span style=\"color:#ccaa33\">Check:</span> When you've updated the starter code, `check()` will tell you whether your code is correct. You need to update the code that creates variable `reviews`"
      ],
      "text/plain": [
       "Check: When you've updated the starter code, `check()` will tell you whether your code is correct. You need to update the code that creates variable `reviews`"
      ]
     },
     "metadata": {},
     "output_type": "display_data"
    },
    {
     "data": {
      "text/markdown": [],
      "text/plain": [
       "<learntools.core.constants.PlaceholderValue at 0x7f5f79eab650>"
      ]
     },
     "execution_count": 8,
     "metadata": {},
     "output_type": "execute_result"
    }
   ],
   "source": [
    "reviews = ____\n",
    "\n",
    "# Check your answer\n",
    "q4.check()\n",
    "reviews"
   ]
  },
  {
   "cell_type": "code",
   "execution_count": 9,
   "id": "7461cb8f",
   "metadata": {
    "execution": {
     "iopub.execute_input": "2022-12-06T23:24:26.056245Z",
     "iopub.status.busy": "2022-12-06T23:24:26.055265Z",
     "iopub.status.idle": "2022-12-06T23:24:26.060183Z",
     "shell.execute_reply": "2022-12-06T23:24:26.059014Z"
    },
    "papermill": {
     "duration": 0.014714,
     "end_time": "2022-12-06T23:24:26.062209",
     "exception": false,
     "start_time": "2022-12-06T23:24:26.047495",
     "status": "completed"
    },
    "tags": []
   },
   "outputs": [],
   "source": [
    "#q4.hint()\n",
    "#q4.solution()"
   ]
  },
  {
   "cell_type": "markdown",
   "id": "ad493081",
   "metadata": {
    "papermill": {
     "duration": 0.005882,
     "end_time": "2022-12-06T23:24:26.074520",
     "exception": false,
     "start_time": "2022-12-06T23:24:26.068638",
     "status": "completed"
    },
    "tags": []
   },
   "source": [
    "## 5.\n",
    "\n",
    "Run the cell below to create and display a DataFrame called `animals`:"
   ]
  },
  {
   "cell_type": "code",
   "execution_count": 10,
   "id": "bc47d33b",
   "metadata": {
    "execution": {
     "iopub.execute_input": "2022-12-06T23:24:26.088451Z",
     "iopub.status.busy": "2022-12-06T23:24:26.088007Z",
     "iopub.status.idle": "2022-12-06T23:24:26.098727Z",
     "shell.execute_reply": "2022-12-06T23:24:26.097720Z"
    },
    "papermill": {
     "duration": 0.020269,
     "end_time": "2022-12-06T23:24:26.100994",
     "exception": false,
     "start_time": "2022-12-06T23:24:26.080725",
     "status": "completed"
    },
    "tags": []
   },
   "outputs": [
    {
     "data": {
      "text/html": [
       "<div>\n",
       "<style scoped>\n",
       "    .dataframe tbody tr th:only-of-type {\n",
       "        vertical-align: middle;\n",
       "    }\n",
       "\n",
       "    .dataframe tbody tr th {\n",
       "        vertical-align: top;\n",
       "    }\n",
       "\n",
       "    .dataframe thead th {\n",
       "        text-align: right;\n",
       "    }\n",
       "</style>\n",
       "<table border=\"1\" class=\"dataframe\">\n",
       "  <thead>\n",
       "    <tr style=\"text-align: right;\">\n",
       "      <th></th>\n",
       "      <th>Cows</th>\n",
       "      <th>Goats</th>\n",
       "    </tr>\n",
       "  </thead>\n",
       "  <tbody>\n",
       "    <tr>\n",
       "      <th>Year 1</th>\n",
       "      <td>12</td>\n",
       "      <td>22</td>\n",
       "    </tr>\n",
       "    <tr>\n",
       "      <th>Year 2</th>\n",
       "      <td>20</td>\n",
       "      <td>19</td>\n",
       "    </tr>\n",
       "  </tbody>\n",
       "</table>\n",
       "</div>"
      ],
      "text/plain": [
       "        Cows  Goats\n",
       "Year 1    12     22\n",
       "Year 2    20     19"
      ]
     },
     "execution_count": 10,
     "metadata": {},
     "output_type": "execute_result"
    }
   ],
   "source": [
    "animals = pd.DataFrame({'Cows': [12, 20], 'Goats': [22, 19]}, index=['Year 1', 'Year 2'])\n",
    "animals"
   ]
  },
  {
   "cell_type": "markdown",
   "id": "1d2500b2",
   "metadata": {
    "papermill": {
     "duration": 0.006431,
     "end_time": "2022-12-06T23:24:26.114219",
     "exception": false,
     "start_time": "2022-12-06T23:24:26.107788",
     "status": "completed"
    },
    "tags": []
   },
   "source": [
    "In the cell below, write code to save this DataFrame to disk as a csv file with the name `cows_and_goats.csv`."
   ]
  },
  {
   "cell_type": "code",
   "execution_count": 11,
   "id": "b6eb4ee7",
   "metadata": {
    "execution": {
     "iopub.execute_input": "2022-12-06T23:24:26.129030Z",
     "iopub.status.busy": "2022-12-06T23:24:26.128323Z",
     "iopub.status.idle": "2022-12-06T23:24:26.136904Z",
     "shell.execute_reply": "2022-12-06T23:24:26.135860Z"
    },
    "papermill": {
     "duration": 0.018469,
     "end_time": "2022-12-06T23:24:26.139077",
     "exception": false,
     "start_time": "2022-12-06T23:24:26.120608",
     "status": "completed"
    },
    "tags": []
   },
   "outputs": [
    {
     "data": {
      "application/javascript": [
       "parent.postMessage({\"jupyterEvent\": \"custom.exercise_interaction\", \"data\": {\"outcomeType\": 2, \"failureMessage\": \"Expected file to exist with name `cows_and_goats.csv`\", \"interactionType\": 1, \"questionType\": 2, \"questionId\": \"5_SaveAnimalsCsv\", \"learnToolsVersion\": \"0.3.4\", \"valueTowardsCompletion\": 0.0, \"exceptionClass\": \"\", \"trace\": \"\"}}, \"*\")"
      ],
      "text/plain": [
       "<IPython.core.display.Javascript object>"
      ]
     },
     "metadata": {},
     "output_type": "display_data"
    },
    {
     "data": {
      "text/markdown": [
       "<span style=\"color:#cc3333\">Incorrect:</span> Expected file to exist with name `cows_and_goats.csv`"
      ],
      "text/plain": [
       "Incorrect: Expected file to exist with name `cows_and_goats.csv`"
      ]
     },
     "metadata": {},
     "output_type": "display_data"
    }
   ],
   "source": [
    "# Your code goes here\n",
    "\n",
    "# Check your answer\n",
    "q5.check()"
   ]
  },
  {
   "cell_type": "code",
   "execution_count": 12,
   "id": "9b9f26e0",
   "metadata": {
    "execution": {
     "iopub.execute_input": "2022-12-06T23:24:26.154936Z",
     "iopub.status.busy": "2022-12-06T23:24:26.154542Z",
     "iopub.status.idle": "2022-12-06T23:24:26.158734Z",
     "shell.execute_reply": "2022-12-06T23:24:26.157751Z"
    },
    "papermill": {
     "duration": 0.01485,
     "end_time": "2022-12-06T23:24:26.160935",
     "exception": false,
     "start_time": "2022-12-06T23:24:26.146085",
     "status": "completed"
    },
    "tags": []
   },
   "outputs": [],
   "source": [
    "#q5.hint()\n",
    "#q5.solution()"
   ]
  },
  {
   "cell_type": "markdown",
   "id": "bc98fde2",
   "metadata": {
    "papermill": {
     "duration": 0.006334,
     "end_time": "2022-12-06T23:24:26.174068",
     "exception": false,
     "start_time": "2022-12-06T23:24:26.167734",
     "status": "completed"
    },
    "tags": []
   },
   "source": [
    "# Keep going\n",
    "\n",
    "Move on to learn about **[indexing, selecting and assigning](https://www.kaggle.com/residentmario/indexing-selecting-assigning)**."
   ]
  },
  {
   "cell_type": "markdown",
   "id": "96ff4819",
   "metadata": {
    "papermill": {
     "duration": 0.006281,
     "end_time": "2022-12-06T23:24:26.187156",
     "exception": false,
     "start_time": "2022-12-06T23:24:26.180875",
     "status": "completed"
    },
    "tags": []
   },
   "source": [
    "---\n",
    "\n",
    "\n",
    "\n",
    "\n",
    "*Have questions or comments? Visit the [course discussion forum](https://www.kaggle.com/learn/pandas/discussion) to chat with other learners.*"
   ]
  }
 ],
 "metadata": {
  "kernelspec": {
   "display_name": "Python 3",
   "language": "python",
   "name": "python3"
  },
  "language_info": {
   "codemirror_mode": {
    "name": "ipython",
    "version": 3
   },
   "file_extension": ".py",
   "mimetype": "text/x-python",
   "name": "python",
   "nbconvert_exporter": "python",
   "pygments_lexer": "ipython3",
   "version": "3.7.12"
  },
  "papermill": {
   "default_parameters": {},
   "duration": 10.626532,
   "end_time": "2022-12-06T23:24:26.814583",
   "environment_variables": {},
   "exception": null,
   "input_path": "__notebook__.ipynb",
   "output_path": "__notebook__.ipynb",
   "parameters": {},
   "start_time": "2022-12-06T23:24:16.188051",
   "version": "2.3.4"
  }
 },
 "nbformat": 4,
 "nbformat_minor": 5
}
